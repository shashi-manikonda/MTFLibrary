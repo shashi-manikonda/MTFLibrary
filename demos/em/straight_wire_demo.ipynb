{
 "cells": [
  {
   "cell_type": "markdown",
   "metadata": {},
   "source": [
    "# Straight Wire Magnetic Field Demo\n",
    "\n",
    "This demo showcases the `straight_wire_field` function. It compares the numerically computed magnetic field from a finite straight wire with the known analytical formula.\n",
    "\n",
    "We compute the Taylor series for the field around a point and compare its coefficients with those from the Taylor series of the analytical formula to verify the function's correctness."
   ]
  },
  {
   "cell_type": "code",
   "execution_count": 1,
   "metadata": {
    "execution": {
     "iopub.execute_input": "2025-08-08T19:20:22.663599Z",
     "iopub.status.busy": "2025-08-08T19:20:22.663314Z",
     "iopub.status.idle": "2025-08-08T19:20:23.088870Z",
     "shell.execute_reply": "2025-08-08T19:20:23.087635Z"
    }
   },
   "outputs": [
    {
     "name": "stdout",
     "output_type": "stream",
     "text": [
      "Initializing MTF globals with: _GLOBAL_MAX_ORDER=4, _GLOBAL_MAX_DIMENSION=3\n",
      "Loading/Precomputing Taylor coefficients up to order 4\n",
      "Global precomputed coefficients loading/generation complete.\n",
      "Size of precomputed_coefficients dictionary in memory: 464 bytes, 0.45 KB, 0.00 MB\n",
      "MTF globals initialized: _GLOBAL_MAX_ORDER=4, _GLOBAL_MAX_DIMENSION=3, _INITIALIZED=True\n",
      "Max coefficient count (order=4, nvars=3): 35\n",
      "Precomputed coefficients loaded and ready for use.\n"
     ]
    }
   ],
   "source": [
    "import numpy as np\n",
    "from mtflib import *\n",
    "from applications.em.straight_wire import straight_wire_field\n",
    "from mtflib.taylor_function import MultivariateTaylorFunctionBase\n",
    "import math\n",
    "import pandas as pd\n",
    "\n",
    "# --- Global MTF Settings ---\n",
    "initialize_mtf_globals(max_order=4, max_dimension=3)\n",
    "set_global_etol(1e-12)\n",
    "\n",
    "# --- Define Variables for MTF ---\n",
    "x = Var(1)\n",
    "y = Var(2)\n",
    "z = Var(3)"
   ]
  },
  {
   "cell_type": "markdown",
   "metadata": {},
   "source": [
    "### 1. Numerical B-Field Calculation"
   ]
  },
  {
   "cell_type": "code",
   "execution_count": 2,
   "metadata": {
    "execution": {
     "iopub.execute_input": "2025-08-08T19:20:23.150179Z",
     "iopub.status.busy": "2025-08-08T19:20:23.149643Z",
     "iopub.status.idle": "2025-08-08T19:20:27.905947Z",
     "shell.execute_reply": "2025-08-08T19:20:27.904754Z"
    }
   },
   "outputs": [
    {
     "name": "stdout",
     "output_type": "stream",
     "text": [
      "Computed B-field from Straight Wire (Taylor Series Coefficients of By):\n",
      "           Coefficient  Order  Exponents\n",
      "0   1.990074624264e-06      0  (0, 0, 0)\n",
      "1  -2.009777855384e-05      1  (1, 0, 0)\n",
      "2   2.000218845409e-04      2  (2, 0, 0)\n",
      "3  -1.999926239824e-04      2  (0, 2, 0)\n",
      "4  -2.926055847822e-08      2  (0, 0, 2)\n",
      "5  -1.999931067866e-03      3  (3, 0, 0)\n",
      "6   6.000071325056e-03      3  (1, 2, 0)\n",
      "7  -2.781214576488e-07      3  (1, 0, 2)\n",
      "8   1.999997060843e-02      4  (4, 0, 0)\n",
      "9  -1.200000358938e-01      4  (2, 2, 0)\n",
      "10  2.122432686854e-07      4  (2, 0, 2)\n",
      "11  1.999999391220e-02      4  (0, 4, 0)\n",
      "12  7.242063566761e-08      4  (0, 2, 2)\n",
      "13 -4.744398405532e-08      4  (0, 0, 4)\n"
     ]
    }
   ],
   "source": [
    "# --- Wire and Field Point Parameters ---\n",
    "start_point = [0, 0, -1]\n",
    "end_point = [0, 0, 1]\n",
    "current = 1.0\n",
    "num_segments = 200 # More segments for better accuracy\n",
    "\n",
    "# Define field point for Taylor expansion, e.g., around (0.1, 0, 0)\n",
    "field_point_mtf = np.array([[x + 0.1, y, z]], dtype=object)\n",
    "\n",
    "# --- Calculate the B-field numerically ---\n",
    "B_numerical = straight_wire_field(\n",
    "    start_point, end_point, current, field_point_mtf, num_segments=num_segments)\n",
    "\n",
    "B_numerical_vector = B_numerical[0] # Result has shape (1,3), so get the first row\n",
    "\n",
    "print(\"Computed B-field from Straight Wire (Taylor Series Coefficients of By):\")\n",
    "print(B_numerical_vector[1].get_tabular_dataframe())"
   ]
  },
  {
   "cell_type": "markdown",
   "metadata": {},
   "source": [
    "### 2. Analytical B-Field Calculation"
   ]
  },
  {
   "cell_type": "code",
   "execution_count": 3,
   "metadata": {
    "execution": {
     "iopub.execute_input": "2025-08-08T19:20:27.909470Z",
     "iopub.status.busy": "2025-08-08T19:20:27.909138Z",
     "iopub.status.idle": "2025-08-08T19:20:28.007951Z",
     "shell.execute_reply": "2025-08-08T19:20:28.006704Z"
    }
   },
   "outputs": [
    {
     "name": "stdout",
     "output_type": "stream",
     "text": [
      "Analytical B-field for Straight Wire (Taylor Series Coefficients of By):\n",
      "           Coefficient  Order  Exponents\n",
      "0   1.990074380420e-06      0  (0, 0, 0)\n",
      "1  -2.009778087157e-05      1  (1, 0, 0)\n",
      "2   2.000218863096e-04      2  (2, 0, 0)\n",
      "3  -1.999926233788e-04      2  (0, 2, 0)\n",
      "4  -2.926293079727e-08      2  (0, 0, 2)\n",
      "5  -1.999931062655e-03      3  (3, 0, 0)\n",
      "6   6.000071330673e-03      3  (1, 2, 0)\n",
      "7  -2.781427085682e-07      3  (1, 0, 2)\n",
      "8   1.999997060351e-02      4  (4, 0, 0)\n",
      "9  -1.200000358999e-01      4  (2, 2, 0)\n",
      "10  2.122788823643e-07      4  (2, 0, 2)\n",
      "11  1.999999391115e-02      4  (0, 4, 0)\n",
      "12  7.243299702298e-08      4  (0, 2, 2)\n",
      "13 -4.745197989788e-08      4  (0, 0, 4)\n"
     ]
    }
   ],
   "source": [
    "# Analytical formula: B = (μ₀ * I / 4π * a) * (cos(θ₁) - cos(θ₂))\n",
    "# For a wire on the z-axis from z1 to z2, and a point (x,y,z), the field is in the phi direction.\n",
    "# B_phi = (μ₀ * I / 4π * a) * ( (z - z1)/sqrt((z-z1)²+a²) - (z - z2)/sqrt((z-z2)²+a²) )\n",
    "# where a = sqrt(x² + y²)\n",
    "\n",
    "mu_0 = 4 * math.pi * 1e-7\n",
    "z1 = -1.0\n",
    "z2 = 1.0\n",
    "\n",
    "# We are expanding around (0.1, 0, 0), so x_mtf = x + 0.1, y_mtf = y, z_mtf = z\n",
    "x_mtf = x + 0.1\n",
    "y_mtf = y\n",
    "z_mtf = z\n",
    "\n",
    "a_mtf = sqrt_taylor(x_mtf**2 + y_mtf**2)\n",
    "cos1_mtf = (z_mtf - z1) / sqrt_taylor((z_mtf - z1)**2 + a_mtf**2)\n",
    "cos2_mtf = (z_mtf - z2) / sqrt_taylor((z_mtf - z2)**2 + a_mtf**2)\n",
    "\n",
    "B_phi_mag = (mu_0 * current / (4 * math.pi * a_mtf)) * (cos1_mtf - cos2_mtf)\n",
    "\n",
    "# The field is in the phi direction. Bx = -B_phi * sin(phi), By = B_phi * cos(phi)\n",
    "# where phi is the angle in the xy-plane. phi = atan2(y, x)\n",
    "# cos(phi) = x / a, sin(phi) = y / a\n",
    "cos_phi_mtf = x_mtf / a_mtf\n",
    "sin_phi_mtf = y_mtf / a_mtf\n",
    "\n",
    "Bx_analytical = -B_phi_mag * sin_phi_mtf\n",
    "By_analytical =  B_phi_mag * cos_phi_mtf\n",
    "Bz_analytical = MultivariateTaylorFunctionBase.from_constant(0.0)\n",
    "\n",
    "print(\"Analytical B-field for Straight Wire (Taylor Series Coefficients of By):\")\n",
    "print(By_analytical.get_tabular_dataframe())"
   ]
  },
  {
   "cell_type": "markdown",
   "metadata": {},
   "source": [
    "### 3. Compare the Results"
   ]
  },
  {
   "cell_type": "code",
   "execution_count": 4,
   "metadata": {
    "execution": {
     "iopub.execute_input": "2025-08-08T19:20:28.011413Z",
     "iopub.status.busy": "2025-08-08T19:20:28.011102Z",
     "iopub.status.idle": "2025-08-08T19:20:28.034000Z",
     "shell.execute_reply": "2025-08-08T19:20:28.032949Z"
    }
   },
   "outputs": [
    {
     "name": "stdout",
     "output_type": "stream",
     "text": [
      "--- Comparison of Taylor Series Coefficients (By component) ---\n",
      "    Exponents  Order           Numerical          Analytical      RelativeError\n",
      "0   (0, 0, 0)      0  1.990074624264e-06  1.990074380420e-06 1.225300515544e-07\n",
      "1   (1, 0, 0)      1 -2.009777855384e-05 -2.009778087157e-05 1.153227791008e-07\n",
      "2   (0, 0, 2)      2 -2.926055847822e-08 -2.926293079727e-08 8.106908596193e-05\n",
      "3   (0, 2, 0)      2 -1.999926239824e-04 -1.999926233788e-04 3.017792083115e-09\n",
      "4   (2, 0, 0)      2  2.000218845409e-04  2.000218863096e-04 8.842947757108e-09\n",
      "5   (1, 0, 2)      3 -2.781214576488e-07 -2.781427085682e-07 7.640293518054e-05\n",
      "6   (1, 2, 0)      3  6.000071325056e-03  6.000071330673e-03 9.361733047275e-10\n",
      "7   (3, 0, 0)      3 -1.999931067866e-03 -1.999931062655e-03 2.605726008837e-09\n",
      "8   (0, 0, 4)      4 -4.744398405532e-08 -4.745197989788e-08 1.685038765344e-04\n",
      "9   (0, 2, 2)      4  7.242063566761e-08  7.243299702298e-08 1.706591730219e-04\n",
      "10  (0, 4, 0)      4  1.999999391220e-02  1.999999391115e-02 5.228197939757e-11\n",
      "11  (2, 0, 2)      4  2.122432686854e-07  2.122788823643e-07 1.677683547191e-04\n",
      "12  (2, 2, 0)      4 -1.200000358938e-01 -1.200000358999e-01 5.072977556191e-11\n",
      "13  (4, 0, 0)      4  1.999997060843e-02  1.999997060351e-02 2.460511108717e-10\n"
     ]
    }
   ],
   "source": [
    "print(\"--- Comparison of Taylor Series Coefficients (By component) ---\")\n",
    "df_num = B_numerical_vector[1].get_tabular_dataframe().rename(columns={'Coefficient': 'Numerical'})\n",
    "df_an = By_analytical.get_tabular_dataframe().rename(columns={'Coefficient': 'Analytical'})\n",
    "comparison = pd.merge(df_num, df_an, on=['Order', 'Exponents'], how='outer').fillna(0)\n",
    "\n",
    "comparison['RelativeError'] = np.abs(comparison['Numerical'] - comparison['Analytical']) / np.abs(comparison['Analytical'])\n",
    "comparison['RelativeError'] = comparison['RelativeError'].replace([np.inf, -np.inf], 0).fillna(0)\n",
    "\n",
    "print(comparison[['Exponents', 'Order', 'Numerical', 'Analytical', 'RelativeError']])"
   ]
  }
 ],
 "metadata": {
  "kernelspec": {
   "display_name": "Python 3",
   "language": "python",
   "name": "python3"
  },
  "language_info": {
   "codemirror_mode": {
    "name": "ipython",
    "version": 3
   },
   "file_extension": ".py",
   "mimetype": "text/x-python",
   "name": "python",
   "nbconvert_exporter": "python",
   "pygments_lexer": "ipython3",
   "version": "3.12.11"
  }
 },
 "nbformat": 4,
 "nbformat_minor": 2
}
