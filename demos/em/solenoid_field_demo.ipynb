{
 "cells": [
  {
   "cell_type": "markdown",
   "metadata": {},
   "source": [
    "# On-Axis Field of a Solenoid Demo\n",
    "\n",
    "This demo compares the numerically computed on-axis magnetic field of a model solenoid with the known analytical formula.\n",
    "\n",
    "A solenoid is modeled as a series of discrete current rings. The total magnetic field is the sum of the fields from each ring. We compute the Taylor series for this field along the solenoid's axis and compare its coefficients with the coefficients from the Taylor series of the analytical formula."
   ]
  },
  {
   "cell_type": "code",
   "execution_count": 1,
   "metadata": {},
   "outputs": [],
   "source": "import numpy as np\nfrom mtflib import *\nfrom applications.em.biot_savart import serial_biot_savart\nfrom applications.em.current_ring import current_ring\nfrom mtflib.taylor_function import MultivariateTaylorFunctionBase\nimport math\nimport pandas as pd\nimport matplotlib.pyplot as plt\nfrom mpl_toolkits.mplot3d import Axes3D"
  },
  {
   "cell_type": "markdown",
   "metadata": {},
   "source": [
    "### 1. Visualize the Geometry"
   ]
  },
  {
   "cell_type": "code",
   "execution_count": 2,
   "metadata": {},
   "outputs": [],
   "source": "# --- Solenoid Parameters for visualization ---\nsolenoid_radius = 0.1\nsolenoid_length = 0.5\nnum_rings_vis = 10 # Just a few rings for a clear visual\nobservation_point = [0, 0, 0] # At the center of the solenoid\n\n# --- Visualize the Setup ---\nfig = plt.figure(figsize=(10, 10))\nax = fig.add_subplot(111, projection='3d')\ntheta = np.linspace(0, 2 * np.pi, 100)\n\n# Plot each ring of the solenoid\nring_positions_z_vis = np.linspace(-solenoid_length / 2, solenoid_length / 2, num_rings_vis)\nfor z_pos in ring_positions_z_vis:\n    loop_x = solenoid_radius * np.cos(theta)\n    loop_y = solenoid_radius * np.sin(theta)\n    ax.plot(loop_x, loop_y, z_pos, 'b-')\n\n# Add an arrow for current direction on the middle ring\nax.quiver(solenoid_radius, 0, 0, 0, 1, 0, length=0.05, normalize=True, color='b', arrow_length_ratio=0.4)\n\n# Plot the observation point\nax.scatter(observation_point[0], observation_point[1], observation_point[2], c='r', marker='x', s=100, label='Observation Point')\n\nax.set_xlabel('X-axis')\nax.set_ylabel('Y-axis')\nax.set_zlabel('Z-axis')\nax.set_title('Geometry of the Solenoid Model')\nax.legend()\nax.axis('equal')\nplt.show()"
  },
  {
   "cell_type": "markdown",
   "metadata": {},
   "source": [
    "### 2. Numerical B-Field Calculation"
   ]
  },
  {
   "cell_type": "code",
   "execution_count": 3,
   "metadata": {},
   "outputs": [
    {
     "name": "stdout",
     "output_type": "stream",
     "text": [
      "Initializing MTF globals with: _GLOBAL_MAX_ORDER=6, _GLOBAL_MAX_DIMENSION=4\n",
      "Loading/Precomputing Taylor coefficients up to order 6\n",
      "Global precomputed coefficients loading/generation complete.\n",
      "Size of precomputed_coefficients dictionary in memory: 464 bytes, 0.45 KB, 0.00 MB\n",
      "MTF globals initialized: _GLOBAL_MAX_ORDER=6, _GLOBAL_MAX_DIMENSION=4, _INITIALIZED=True\n",
      "Max coefficient count (order=6, nvars=4): 210\n",
      "Precomputed coefficients loaded and ready for use.\n",
      "Computed Bz from Solenoid Model (Taylor Series Coefficients):\n",
      "          Coefficient  Order     Exponents\n",
      "0  1.146585093572e-04      0  (0, 0, 0, 0)\n",
      "1 -3.048515550090e-04      2  (0, 0, 2, 0)\n",
      "2 -5.186877015957e-03      4  (0, 0, 4, 0)\n",
      "3 -5.974433014965e-02      6  (0, 0, 6, 0)\n"
     ]
    }
   ],
   "source": "# --- MTF Setup ---\ninitialize_mtf_globals(max_order=6, max_dimension=4)\nset_global_etol(1e-12)\nz = Var(3)\n\n# --- Solenoid Parameters ---\nsolenoid_radius = 0.1\nsolenoid_length = 0.5\nnum_rings = 50\ncurrent = 1.0\nturns_per_meter = num_rings / solenoid_length\n\n# --- Field Point on the axis ---\nfield_point_mtf = np.array([[0, 0, z]], dtype=object)\n\n# --- Calculate B-field by summing contributions from each ring ---\ntotal_B_numerical = np.array([MultivariateTaylorFunctionBase.from_constant(0.0) for _ in range(3)], dtype=object)\nring_positions_z = np.linspace(-solenoid_length / 2, solenoid_length / 2, num_rings)\nfor z_pos in ring_positions_z:\n    segment_mtfs, element_lengths, direction_vectors = current_ring(\n        solenoid_radius, 20, np.array([0, 0, z_pos]), np.array([0, 0, 1]))\n    B_ring_with_u = serial_biot_savart(segment_mtfs, element_lengths, direction_vectors, field_point_mtf)\n    B_ring = [integrate(bfld, 4, -1, 1) for bfld in B_ring_with_u[0]]\n    total_B_numerical += B_ring\n\nB_z_numerical = total_B_numerical[2]\nprint(\"Computed Bz from Solenoid Model (Taylor Series Coefficients):\")\nprint(B_z_numerical.get_tabular_dataframe())"
  },
  {
   "cell_type": "markdown",
   "metadata": {},
   "source": [
    "### 3. Implement the Analytical Formula"
   ]
  },
  {
   "cell_type": "code",
   "execution_count": 4,
   "metadata": {},
   "outputs": [
    {
     "name": "stdout",
     "output_type": "stream",
     "text": [
      "Analytical Bz for Solenoid (Taylor Series Coefficients):\n",
      "          Coefficient  Order     Exponents\n",
      "0  1.166758220446e-04      0  (0, 0, 0, 0)\n",
      "1 -3.329631069049e-04      2  (0, 0, 2, 0)\n",
      "2 -5.806728776779e-03      4  (0, 0, 4, 0)\n",
      "3 -6.766461594820e-02      6  (0, 0, 6, 0)\n"
     ]
    }
   ],
   "source": "mu_0 = 4 * math.pi * 1e-7\nz1 = -solenoid_length / 2\nz2 = solenoid_length / 2\ncos_theta_1 = (z - z1) / sqrt_taylor((z - z1)**2 + solenoid_radius**2)\ncos_theta_2 = (z - z2) / sqrt_taylor((z - z2)**2 + solenoid_radius**2)\nB_z_analytical = (mu_0 * turns_per_meter * current / 2) * (cos_theta_1 - cos_theta_2)\nprint(\"Analytical Bz for Solenoid (Taylor Series Coefficients):\")\nprint(B_z_analytical.get_tabular_dataframe())"
  },
  {
   "cell_type": "markdown",
   "metadata": {},
   "source": [
    "### 4. Compare the Results"
   ]
  },
  {
   "cell_type": "code",
   "execution_count": 5,
   "metadata": {},
   "outputs": [
    {
     "name": "stdout",
     "output_type": "stream",
     "text": [
      "--- Comparison of Taylor Series Coefficients (Bz component) ---\n",
      "      Exponents  Order           Numerical          Analytical      RelativeError\n",
      "0  (0, 0, 0, 0)      0  1.146585093572e-04  1.166758220446e-04 1.728989478714e-02\n",
      "1  (0, 0, 2, 0)      2 -3.048515550090e-04 -3.329631069049e-04 8.442842859441e-02\n",
      "2  (0, 0, 4, 0)      4 -5.186877015957e-03 -5.806728776779e-03 1.067471522523e-01\n",
      "3  (0, 0, 6, 0)      6 -5.974433014965e-02 -6.766461594820e-02 1.170521060020e-01\n"
     ]
    }
   ],
   "source": "print(\"--- Comparison of Taylor Series Coefficients (Bz component) ---\")\ndf_num = B_z_numerical.get_tabular_dataframe().rename(columns={'Coefficient': 'Numerical'})\ndf_an = B_z_analytical.get_tabular_dataframe().rename(columns={'Coefficient': 'Analytical'})\ncomparison = pd.merge(df_num, df_an, on=['Order', 'Exponents'], how='outer').fillna(0)\ncomparison['RelativeError'] = np.abs(comparison['Numerical'] - comparison['Analytical']) / np.abs(comparison['Analytical'])\ncomparison['RelativeError'] = comparison['RelativeError'].replace([np.inf, -np.inf], 0).fillna(0)\nprint(comparison[['Exponents', 'Order', 'Numerical', 'Analytical', 'RelativeError']])"
  }
 ],
 "metadata": {
  "kernelspec": {
   "display_name": "Python 3",
   "language": "python",
   "name": "python3"
  },
  "language_info": {
   "codemirror_mode": {
    "name": "ipython",
    "version": 3
   },
   "file_extension": ".py",
   "mimetype": "text/x-python",
   "name": "python",
   "nbconvert_exporter": "python",
   "pygments_lexer": "ipython3",
   "version": "3.13.5"
  }
 },
 "nbformat": 4,
 "nbformat_minor": 4
}
