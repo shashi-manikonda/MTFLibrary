{
 "cells": [
  {
   "cell_type": "markdown",
   "metadata": {},
   "source": [
    "# Magnetic Dipole Approximation Demo\n",
    "\n",
    "This demo verifies the magnetic dipole approximation. It compares the magnetic field from a small, circular current loop at a large distance with the analytical formula for a magnetic dipole.\n",
    "\n",
    "The key verification is to show that the error between the numerically computed field from the loop and the analytical dipole field decreases as the distance from the loop increases. We expect the error to fall off, and we will visualize this relationship with a plot."
   ]
  },
  {
   "cell_type": "code",
   "execution_count": 1,
   "metadata": {},
   "outputs": [
    {
     "name": "stdout",
     "output_type": "stream",
     "text": [
      "Initializing MTF globals with: _GLOBAL_MAX_ORDER=3, _GLOBAL_MAX_DIMENSION=4\n",
      "Loading/Precomputing Taylor coefficients up to order 3\n",
      "Global precomputed coefficients loading/generation complete.\n",
      "Size of precomputed_coefficients dictionary in memory: 464 bytes, 0.45 KB, 0.00 MB\n",
      "MTF globals initialized: _GLOBAL_MAX_ORDER=3, _GLOBAL_MAX_DIMENSION=4, _INITIALIZED=True\n",
      "Max coefficient count (order=3, nvars=4): 35\n",
      "Precomputed coefficients loaded and ready for use.\n"
     ]
    }
   ],
   "source": "import numpy as np\nfrom mtflib import *\nfrom applications.em.biot_savart import serial_biot_savart\nfrom applications.em.current_ring import current_ring\nfrom mtflib.taylor_function import MultivariateTaylorFunctionBase\nimport math\nimport matplotlib.pyplot as plt\nfrom mpl_toolkits.mplot3d import Axes3D\n\n# --- Global MTF Settings ---\ninitialize_mtf_globals(max_order=3, max_dimension=4)\nset_global_etol(1e-12)\n\n# --- Define Variables for MTF ---\nx = Var(1)\ny = Var(2)\nz = Var(3)"
  },
  {
   "cell_type": "markdown",
   "metadata": {},
   "source": [
    "### 1. Visualize the Geometry"
   ]
  },
  {
   "cell_type": "code",
   "execution_count": 2,
   "metadata": {},
   "outputs": [],
   "source": "# --- Define loop parameters for visualization ---\nring_radius = 0.01\nring_center_point = np.array([0.0, 0.0, 0.0])\ndistances_to_plot = np.logspace(0, 2, 5) # Show a few observation points\n\n# --- Generate points for the current loop ---\ntheta = np.linspace(0, 2 * np.pi, 100)\nloop_x = ring_center_point[0] + ring_radius * np.cos(theta)\nloop_y = ring_center_point[1] + ring_radius * np.sin(theta)\nloop_z = np.full_like(loop_x, ring_center_point[2])\n\n# --- Visualize the Setup ---\nfig = plt.figure(figsize=(10, 10))\nax = fig.add_subplot(111, projection='3d')\nax.plot(loop_x, loop_y, loop_z, 'b-', label='Current Loop')\n# Add an arrow for current direction\nax.quiver(ring_radius, 0, 0, 0, 1, 0, length=0.01, normalize=True, color='b', arrow_length_ratio=0.4)\n\n# Plot the line along which the field is evaluated\nobs_x = np.zeros_like(distances_to_plot)\nobs_y = distances_to_plot\nobs_z = np.zeros_like(distances_to_plot)\nax.plot(obs_x, obs_y, obs_z, 'r-o', label='Observation Path (y-axis)')\n\nax.set_xlabel('X-axis')\nax.set_ylabel('Y-axis')\nax.set_zlabel('Z-axis')\nax.set_title('Geometry for Dipole Approximation Demo')\nax.legend()\nax.axis('equal')\nplt.show()"
  },
  {
   "cell_type": "markdown",
   "metadata": {},
   "source": [
    "### 2. Function to Calculate Approximation Error"
   ]
  },
  {
   "cell_type": "code",
   "execution_count": 3,
   "metadata": {},
   "outputs": [],
   "source": "def calculate_error_at_distance(distance):\n    # Define a small current loop\n    ring_radius = 0.01\n    num_segments_ring = 20\n    current = 1.0\n    ring_center_point = np.array([0.0, 0.0, 0.0])\n    ring_axis_direction = np.array([0, 0, 1])\n\n    segment_mtfs, element_lengths, direction_vectors = current_ring(\n        ring_radius, num_segments_ring, ring_center_point, ring_axis_direction)\n\n    # Define a far-field point for expansion\n    field_point_mtf = np.array([[x, y + distance, z]], dtype=object)\n\n    # Calculate the B-field from the loop (Numerical)\n    B_numerical_mtf_with_u = serial_biot_savart(segment_mtfs, element_lengths, direction_vectors, field_point_mtf)\n    B_numerical_mtf = [integrate(bfld, 4, -1, 1) for bfld in B_numerical_mtf_with_u[0]]\n\n    # Calculate the B-field from the analytical dipole formula\n    mu_0_4pi = 1e-7\n    area = math.pi * ring_radius**2\n    m_vec = np.array([0, 0, current * area])\n    m_mtf = np.array([MultivariateTaylorFunctionBase.from_constant(c) for c in m_vec], dtype=object)\n    r_mtf = np.array([x, y + distance, z], dtype=object)\n    r_squared_mtf = r_mtf[0]**2 + r_mtf[1]**2 + r_mtf[2]**2\n    r_mag_mtf = sqrt_taylor(r_squared_mtf)\n    m_dot_r_mtf = m_mtf[0]*r_mtf[0] + m_mtf[1]*r_mtf[1] + m_mtf[2]*r_mtf[2]\n    term1_scalar_inv_r5 = 3 * m_dot_r_mtf / (r_mag_mtf**5)\n    term1 = [c * term1_scalar_inv_r5 for c in r_mtf]\n    term2_scalar_inv_r3 = 1 / (r_mag_mtf**3)\n    term2 = [c * term2_scalar_inv_r3 for c in m_mtf]\n    B_analytic_mtf = [mu_0_4pi * (t1 - t2) for t1, t2 in zip(term1, term2)]\n\n    # Calculate the error (norm of the difference of the constant terms)\n    B_num_const = np.array([c.extract_coefficient((0,0,0,0)) for c in B_numerical_mtf])\n    B_an_const = np.array([c.extract_coefficient((0,0,0,0)) for c in B_analytic_mtf])\n    error = np.linalg.norm(B_num_const - B_an_const)\n    return error"
  },
  {
   "cell_type": "markdown",
   "metadata": {},
   "source": [
    "### 3. Run Simulation Over a Range of Distances"
   ]
  },
  {
   "cell_type": "code",
   "execution_count": 4,
   "metadata": {},
   "outputs": [
    {
     "output_type": "error",
     "ename": "UFuncTypeError",
     "evalue": "Cannot cast ufunc 'divide' output from dtype('float64') to dtype('int64') with casting rule 'same_kind'",
     "traceback": [
      "Cannot cast ufunc 'divide' output from dtype('float64') to dtype('int64') with casting rule 'same_kind'"
     ]
    },
    {
     "name": "stdout",
     "output_type": "stream",
     "text": [
      "Distance: 1.00, Error: 3.53e-15\n",
      "Distance: 1.27, Error: 1.05e-15\n",
      "Distance: 1.62, Error: 3.13e-16\n",
      "Distance: 2.07, Error: 9.32e-17\n",
      "Distance: 2.64, Error: 1.71e-12\n",
      "Distance: 3.36, Error: 8.28e-13\n"
     ]
    }
   ],
   "source": "distances = np.logspace(0, 2, 20) # from 1m to 100m\nerrors = []\nfor d in distances:\n    error = calculate_error_at_distance(d)\n    print(f\"Distance: {d:.2f}, Error: {error:.2e}\")\n    errors.append(error)"
  },
  {
   "cell_type": "markdown",
   "metadata": {},
   "source": [
    "### 4. Plot Error vs. Distance"
   ]
  },
  {
   "cell_type": "code",
   "execution_count": 5,
   "metadata": {},
   "outputs": [
    {
     "output_type": "error",
     "ename": "ValueError",
     "evalue": "x and y must have same first dimension, but have shapes (20,) and (6,)",
     "traceback": [
      "x and y must have same first dimension, but have shapes (20,) and (6,)"
     ]
    }
   ],
   "source": "plt.figure(figsize=(10, 6))\nplt.plot(distances, errors, 'o-')\nplt.xscale('log')\nplt.yscale('log')\nplt.xlabel('Distance from loop (m)')\nplt.ylabel('Approximation Error (Norm of B-field difference)')\nplt.title('Dipole Approximation Error vs. Distance')\nplt.grid(True, which=\"both\", ls=\"--\")\nplt.show()"
  }
 ],
 "metadata": {
  "kernelspec": {
   "display_name": "Python 3",
   "language": "python",
   "name": "python3"
  },
  "language_info": {
   "codemirror_mode": {
    "name": "ipython",
    "version": 3
   },
   "file_extension": ".py",
   "mimetype": "text/x-python",
   "name": "python",
   "nbconvert_exporter": "python",
   "pygments_lexer": "ipython3",
   "version": "3.13.5"
  }
 },
 "nbformat": 4,
 "nbformat_minor": 4
}
