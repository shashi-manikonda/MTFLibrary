{
 "cells": [
  {
   "cell_type": "markdown",
   "metadata": {},
   "source": [
    "# Magnetic Dipole Approximation Demo\n",
    "\n",
    "This demo verifies the magnetic dipole approximation. It compares the magnetic field from a small, circular current loop at a large distance with the analytical formula for a magnetic dipole.\n",
    "\n",
    "The key verification is to show that the error between the numerically computed field from the loop and the analytical dipole field decreases as the distance from the loop increases. We expect the error to fall off, and we will visualize this relationship with a plot."
   ]
  },
  {
   "cell_type": "code",
   "execution_count": null,
   "metadata": {},
   "outputs": [],
   "source": [
    "import sys\n",
    "sys.path.append('.')\n",
    "import numpy as np\n",
    "from src.mtflib import MultivariateTaylorFunction, Var, sqrt_taylor, integrate\n",
    "from src.applications.em.biot_savart import serial_biot_savart\n",
    "from src.applications.em.current_ring import current_ring\n",
    "import math\n",
    "import matplotlib.pyplot as plt\n",
    "from mpl_toolkits.mplot3d import Axes3D\n",
    "\n",
    "# --- Global MTF Settings ---\n",
    "MultivariateTaylorFunction.initialize_mtf(max_order=3, max_dimension=4)\n",
    "MultivariateTaylorFunction.set_etol(1e-12)\n",
    "\n",
    "# --- Define Variables for MTF ---\n",
    "x = Var(1)\n",
    "y = Var(2)\n",
    "z = Var(3)"
   ]
  },
  {
   "cell_type": "markdown",
   "metadata": {},
   "source": [
    "### 1. Visualize the Geometry"
   ]
  },
  {
   "cell_type": "code",
   "execution_count": null,
   "metadata": {},
   "outputs": [],
   "source": [
    "# --- Define loop parameters for visualization ---\n",
    "ring_radius = 0.01\n",
    "ring_center_point = np.array([0.0, 0.0, 0.0])\n",
    "distances_to_plot = np.logspace(0, 2, 5) # Show a few observation points\n",
    "\n",
    "# --- Generate points for the current loop ---\n",
    "theta = np.linspace(0, 2 * np.pi, 100)\n",
    "loop_x = ring_center_point[0] + ring_radius * np.cos(theta)\n",
    "loop_y = ring_center_point[1] + ring_radius * np.sin(theta)\n",
    "loop_z = np.full_like(loop_x, ring_center_point[2])\n",
    "\n",
    "# --- Visualize the Setup ---\n",
    "fig = plt.figure(figsize=(10, 10))\n",
    "ax = fig.add_subplot(111, projection='3d')\n",
    "ax.plot(loop_x, loop_y, loop_z, 'b-', label='Current Loop')\n",
    "# Add an arrow for current direction\n",
    "ax.quiver(ring_radius, 0, 0, 0, 1, 0, length=0.01, normalize=True, color='b', arrow_length_ratio=0.4)\n",
    "\n",
    "# Plot the line along which the field is evaluated\n",
    "obs_x = np.zeros_like(distances_to_plot)\n",
    "obs_y = distances_to_plot\n",
    "obs_z = np.zeros_like(distances_to_plot)\n",
    "ax.plot(obs_x, obs_y, obs_z, 'r-o', label='Observation Path (y-axis)')\n",
    "\n",
    "ax.set_xlabel('X-axis')\n",
    "ax.set_ylabel('Y-axis')\n",
    "ax.set_zlabel('Z-axis')\n",
    "ax.set_title('Geometry for Dipole Approximation Demo')\n",
    "ax.legend()\n",
    "ax.axis('equal')\n",
    "plt.show()"
   ]
  },
  {
   "cell_type": "markdown",
   "metadata": {},
   "source": [
    "### 2. Function to Calculate Approximation Error"
   ]
  },
  {
   "cell_type": "code",
   "execution_count": null,
   "metadata": {},
   "outputs": [],
   "source": [
    "def calculate_error_at_distance(distance):\n",
    "    # Define a small current loop\n",
    "    ring_radius = 0.01\n",
    "    num_segments_ring = 20\n",
    "    current = 1.0\n",
    "    ring_center_point = np.array([0.0, 0.0, 0.0])\n",
    "    ring_axis_direction = np.array([0, 0, 1])\n",
    "\n",
    "    segment_mtfs, element_lengths, direction_vectors = current_ring(\n",
    "        ring_radius, num_segments_ring, ring_center_point, ring_axis_direction)\n",
    "\n",
    "    # Define a far-field point for expansion\n",
    "    field_point_mtf = np.array([[x, y + distance, z]], dtype=object)\n",
    "\n",
    "    # Calculate the B-field from the loop (Numerical)\n",
    "    B_numerical_mtf_with_u = serial_biot_savart(segment_mtfs, element_lengths, direction_vectors, field_point_mtf)\n",
    "    B_numerical_mtf = [integrate(bfld, 4, -1, 1) for bfld in B_numerical_mtf_with_u[0]]\n",
    "\n",
    "    # Calculate the B-field from the analytical dipole formula\n",
    "    mu_0_4pi = 1e-7\n",
    "    area = math.pi * ring_radius**2\n",
    "    m_vec = np.array([0, 0, current * area])\n",
    "    m_mtf = np.array([MultivariateTaylorFunction.from_constant(c) for c in m_vec], dtype=object)\n",
    "    r_mtf = np.array([x, y + distance, z], dtype=object)\n",
    "    r_squared_mtf = r_mtf[0]**2 + r_mtf[1]**2 + r_mtf[2]**2\n",
    "    r_mag_mtf = sqrt_taylor(r_squared_mtf)\n",
    "    m_dot_r_mtf = m_mtf[0]*r_mtf[0] + m_mtf[1]*r_mtf[1] + m_mtf[2]*r_mtf[2]\n",
    "    term1_scalar_inv_r5 = 3 * m_dot_r_mtf / (r_mag_mtf**5)\n",
    "    term1 = [c * term1_scalar_inv_r5 for c in r_mtf]\n",
    "    term2_scalar_inv_r3 = 1 / (r_mag_mtf**3)\n",
    "    term2 = [c * term2_scalar_inv_r3 for c in m_mtf]\n",
    "    B_analytic_mtf = [mu_0_4pi * (t1 - t2) for t1, t2 in zip(term1, term2)]\n",
    "\n",
    "    # Calculate the error (norm of the difference of the constant terms)\n",
    "    B_num_const = np.array([c.extract_coefficient((0,0,0,0)) for c in B_numerical_mtf])\n",
    "    B_an_const = np.array([c.extract_coefficient((0,0,0,0)) for c in B_analytic_mtf])\n",
    "    error = np.linalg.norm(B_num_const - B_an_const)\n",
    "    return error"
   ]
  },
  {
   "cell_type": "markdown",
   "metadata": {},
   "source": [
    "### 3. Run Simulation Over a Range of Distances"
   ]
  },
  {
   "cell_type": "code",
   "execution_count": null,
   "metadata": {},
   "outputs": [],
   "source": [
    "distances = np.logspace(0, 2, 20) # from 1m to 100m\n",
    "errors = []\n",
    "for d in distances:\n",
    "    error = calculate_error_at_distance(d)\n",
    "    print(f\"Distance: {d:.2f}, Error: {error:.2e}\")\n",
    "    errors.append(error)"
   ]
  },
  {
   "cell_type": "markdown",
   "metadata": {},
   "source": [
    "### 4. Plot Error vs. Distance"
   ]
  },
  {
   "cell_type": "code",
   "execution_count": null,
   "metadata": {},
   "outputs": [],
   "source": [
    "plt.figure(figsize=(10, 6))\n",
    "plt.plot(distances, errors, 'o-')\n",
    "plt.xscale('log')\n",
    "plt.yscale('log')\n",
    "plt.xlabel('Distance from loop (m)')\n",
    "plt.ylabel('Approximation Error (Norm of B-field difference)')\n",
    "plt.title('Dipole Approximation Error vs. Distance')\n",
    "plt.grid(True, which=\"both\", ls=\"--\")\n",
    "plt.show()"
   ]
  }
 ],
 "metadata": {
  "kernelspec": {
   "display_name": "Python 3",
   "language": "python",
   "name": "python3"
  },
  "language_info": {
   "codemirror_mode": {
    "name": "ipython",
    "version": 3
   },
   "file_extension": ".py",
   "mimetype": "text/x-python",
   "name": "python",
   "nbconvert_exporter": "python",
   "pygments_lexer": "ipython3",
   "version": "3.12.11"
  }
 },
 "nbformat": 4,
 "nbformat_minor": 4
}
