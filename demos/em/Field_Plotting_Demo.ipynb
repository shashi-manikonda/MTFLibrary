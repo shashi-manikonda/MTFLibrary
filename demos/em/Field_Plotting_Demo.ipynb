{
 "cells": [
  {
   "cell_type": "code",
   "execution_count": null,
   "id": "035eec23",
   "metadata": {},
   "outputs": [],
   "source": [
    "\n",
    "# # mtflib Demo: 3D Field Plotting Tools\n",
    "# \n",
    "# This notebook demonstrates the usage of the new 3D field plotting tools in `demos.applications.em.plotting`."
   ]
  },
  {
   "cell_type": "code",
   "execution_count": null,
   "id": "4f44c022",
   "metadata": {},
   "outputs": [],
   "source": [
    "\n",
    "\n",
    "import numpy as np\n",
    "import matplotlib.pyplot as plt\n",
    "from mtflib import *\n",
    "from applications.em.current_ring import current_ring\n",
    "from applications.em.plotting import Coil, plot_field_on_line, plot_field_on_plane, plot_field_vectors_3d\n",
    "\n",
    "from mtflib import MultivariateTaylorFunction\n",
    "\n",
    "MultivariateTaylorFunction.initialize_mtf(max_order=6, max_dimension=4)\n",
    "MultivariateTaylorFunction.set_etol(1e-12)\n",
    "\n",
    "\n",
    "# ## 1. Define a Coil Configuration (Helmholtz Coil)\n",
    "# \n",
    "# We will create a Helmholtz coil, which consists of two identical circular coils placed symmetrically along a common axis."
   ]
  },
  {
   "cell_type": "code",
   "execution_count": null,
   "id": "ca7ae634",
   "metadata": {},
   "outputs": [],
   "source": [
    "\n",
    "\n",
    "radius = 0.5\n",
    "separation = 0.5\n",
    "current = 1.0\n",
    "num_segments = 20\n",
    "\n",
    "# First coil\n",
    "center1 = np.array([0, 0, -separation / 2])\n",
    "segments1, lengths1, dirs1 = current_ring(radius, num_segments, center1, np.array([0, 0, 1]))\n",
    "coil1 = Coil(segments1, lengths1, dirs1, current=current, label='Coil 1', color='b')\n",
    "\n",
    "# Second coil\n",
    "center2 = np.array([0, 0, separation / 2])\n",
    "segments2, lengths2, dirs2 = current_ring(radius, num_segments, center2, np.array([0, 0, 1]))\n",
    "coil2 = Coil(segments2, lengths2, dirs2, current=current, label='Coil 2', color='g')\n",
    "\n",
    "helmholtz_coils = [coil1, coil2]\n",
    "\n",
    "\n",
    "# ## 2. Demonstrate `plot_field_on_line`"
   ]
  },
  {
   "cell_type": "code",
   "execution_count": null,
   "id": "6b475772",
   "metadata": {},
   "outputs": [],
   "source": [
    "\n",
    "\n",
    "start = [0.01, 0, -1]\n",
    "end = [0.01, 0, 1]\n",
    "fig, (ax3d, ax2d) = plot_field_on_line(helmholtz_coils, start, end, component='Bz')\n",
    "plt.show()\n",
    "\n",
    "\n",
    "# ## 3. Demonstrate `plot_field_on_plane`"
   ]
  },
  {
   "cell_type": "code",
   "execution_count": null,
   "id": "54f341e5",
   "metadata": {},
   "outputs": [],
   "source": [
    "\n",
    "\n",
    "center = [0, 0.01, 0]\n",
    "normal = [0, 1, 0] # Plot on the x-z plane\n",
    "fig, ax = plot_field_on_plane(helmholtz_coils, center, normal, plot_type='quiver', size=(2, 2), resolution=(15, 15))\n",
    "plt.show()\n",
    "\n",
    "\n",
    "# ## 4. Demonstrate `plot_field_vectors_3d`"
   ]
  },
  {
   "cell_type": "code",
   "execution_count": null,
   "id": "1fc5fbef",
   "metadata": {
    "lines_to_next_cell": 2
   },
   "outputs": [],
   "source": [
    "\n",
    "\n",
    "# Create a grid of points for the 3D vector plot\n",
    "x_coords = np.linspace(-0.7, 0.7, 5)\n",
    "y_coords = np.linspace(-0.7, 0.7, 5)\n",
    "z_coords = np.linspace(-0.7, 0.7, 5)\n",
    "points = np.array(np.meshgrid(x_coords, y_coords, z_coords)).T.reshape(-1, 3)\n",
    "\n",
    "fig, ax = plot_field_vectors_3d(helmholtz_coils, points, scale=0.2)\n",
    "plt.show()"
   ]
  }
 ],
 "metadata": {
  "jupytext": {
   "cell_metadata_filter": "-all",
   "encoding": "# coding: utf-8",
   "executable": "/usr/bin/env python",
   "main_language": "python",
   "notebook_metadata_filter": "-all"
  }
 },
 "nbformat": 4,
 "nbformat_minor": 5
}
