{
 "cells": [
  {
   "cell_type": "markdown",
   "metadata": {},
   "source": [
    "# mtflib Demo: 3D Field Plotting Tools\n",
    "\n",
    "This notebook demonstrates the usage of the new 3D field plotting tools in `applications.em.plotting`."
   ]
  },
  {
   "cell_type": "code",
   "execution_count": 1,
   "metadata": {},
   "outputs": [
    {
     "name": "stdout",
     "output_type": "stream",
     "text": [
      "Initializing MTF globals with: _GLOBAL_MAX_ORDER=6, _GLOBAL_MAX_DIMENSION=4\n",
      "Loading/Precomputing Taylor coefficients up to order 6\n",
      "Global precomputed coefficients loading/generation complete.\n",
      "Size of precomputed_coefficients dictionary in memory: 464 bytes, 0.45 KB, 0.00 MB\n",
      "MTF globals initialized: _GLOBAL_MAX_ORDER=6, _GLOBAL_MAX_DIMENSION=4, _INITIALIZED=True\n",
      "Max coefficient count (order=6, nvars=4): 210\n",
      "Precomputed coefficients loaded and ready for use.\n"
     ]
    }
   ],
   "source": "import numpy as np\nimport matplotlib.pyplot as plt\nfrom mtflib import *\nfrom applications.em.current_ring import current_ring\nfrom applications.em.plotting import Coil, plot_field_on_line, plot_field_on_plane, plot_field_vectors_3d\n\ninitialize_mtf_globals(max_order=6, max_dimension=4)\nset_global_etol(1e-12)"
  },
  {
   "cell_type": "markdown",
   "metadata": {},
   "source": [
    "## 1. Define a Coil Configuration (Helmholtz Coil)\n",
    "\n",
    "We will create a Helmholtz coil, which consists of two identical circular coils placed symmetrically along a common axis."
   ]
  },
  {
   "cell_type": "code",
   "execution_count": 2,
   "metadata": {},
   "outputs": [],
   "source": "radius = 0.5\nseparation = 0.5\ncurrent = 1.0\nnum_segments = 20\n\n# First coil\ncenter1 = np.array([0, 0, -separation / 2])\nsegments1, lengths1, dirs1 = current_ring(radius, num_segments, center1, np.array([0, 0, 1]))\ncoil1 = Coil(segments1, lengths1, dirs1, current=current, label='Coil 1', color='b')\n\n# Second coil\ncenter2 = np.array([0, 0, separation / 2])\nsegments2, lengths2, dirs2 = current_ring(radius, num_segments, center2, np.array([0, 0, 1]))\ncoil2 = Coil(segments2, lengths2, dirs2, current=current, label='Coil 2', color='g')\n\nhelmholtz_coils = [coil1, coil2]"
  },
  {
   "cell_type": "markdown",
   "metadata": {},
   "source": [
    "## 2. Demonstrate `plot_field_on_line`"
   ]
  },
  {
   "cell_type": "code",
   "execution_count": 3,
   "metadata": {},
   "outputs": [],
   "source": "start = [0, 0, -1]\nend = [0, 0, 1]\nfig, (ax3d, ax2d) = plot_field_on_line(helmholtz_coils, start, end, component='Bz')\nplt.show()"
  },
  {
   "cell_type": "markdown",
   "metadata": {},
   "source": [
    "## 3. Demonstrate `plot_field_on_plane`"
   ]
  },
  {
   "cell_type": "code",
   "execution_count": 4,
   "metadata": {},
   "outputs": [],
   "source": "center = [0, 0, 0]\nnormal = [0, 1, 0] # Plot on the x-z plane\nfig, ax = plot_field_on_plane(helmholtz_coils, center, normal, plot_type='quiver', size=(2, 2), resolution=(15, 15))\nplt.show()"
  },
  {
   "cell_type": "markdown",
   "metadata": {},
   "source": [
    "## 4. Demonstrate `plot_field_vectors_3d`"
   ]
  },
  {
   "cell_type": "code",
   "execution_count": 5,
   "metadata": {},
   "outputs": [],
   "source": "# Create a grid of points for the 3D vector plot\nx_coords = np.linspace(-0.7, 0.7, 5)\ny_coords = np.linspace(-0.7, 0.7, 5)\nz_coords = np.linspace(-0.7, 0.7, 5)\npoints = np.array(np.meshgrid(x_coords, y_coords, z_coords)).T.reshape(-1, 3)\n\nfig, ax = plot_field_vectors_3d(helmholtz_coils, points, scale=0.2)\nplt.show()"
  }
 ],
 "metadata": {
  "kernelspec": {
   "display_name": "Python 3",
   "language": "python",
   "name": "python3"
  },
  "language_info": {
   "codemirror_mode": {
    "name": "ipython",
    "version": 3
   },
   "file_extension": ".py",
   "mimetype": "text/x-python",
   "name": "python",
   "nbconvert_exporter": "python",
   "pygments_lexer": "ipython3",
   "version": "3.13.5"
  }
 },
 "nbformat": 4,
 "nbformat_minor": 4
}
