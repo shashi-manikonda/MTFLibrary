{
 "cells": [
  {
   "cell_type": "markdown",
   "metadata": {},
   "source": [
    "# Rectangular Loop Magnetic Field Demo (Arbitrarily Oriented)\n",
    "\n",
    "This demo showcases the refactored `rectangular_loop_field` function. It now defines a rectangle by three corner points, allowing for arbitrary orientation in 3D space. The demo visualizes the loop geometry and computes the magnetic field at an observation point."
   ]
  },
  {
   "cell_type": "code",
   "execution_count": 1,
   "metadata": {},
   "outputs": [],
   "source": "import numpy as np\nfrom mtflib import *\nfrom applications.em.rectangular_loop import rectangular_loop_field\nfrom mtflib.taylor_function import MultivariateTaylorFunctionBase\nimport math\nimport pandas as pd\nimport matplotlib.pyplot as plt\nfrom mpl_toolkits.mplot3d import Axes3D"
  },
  {
   "cell_type": "markdown",
   "metadata": {},
   "source": [
    "### 1. Define Geometry and Visualize"
   ]
  },
  {
   "cell_type": "code",
   "execution_count": 2,
   "metadata": {},
   "outputs": [],
   "source": "# --- Loop and Field Point Parameters ---\np1 = np.array([0, 0, 0])\np2 = np.array([1, 0, 0]) # Side 1 along x-axis\np4 = np.array([0, 1, 1]) # Side 2 in yz-plane, making the loop tilted\ncurrent = 1.0\nobservation_point = [0.5, 0.5, -1.0] # An off-axis observation point\n\n# Calculate the 4th corner\np3 = p2 + (p4 - p1)\ncorners = [p1, p2, p3, p4]\nloop_segments = np.array(corners + [corners[0]])\n\n# --- Visualize the Setup ---\nfig = plt.figure(figsize=(8, 8))\nax = fig.add_subplot(111, projection='3d')\nax.plot(loop_segments[:,0], loop_segments[:,1], loop_segments[:,2], 'b-o', label='Rectangular Loop')\nax.scatter(observation_point[0], observation_point[1], observation_point[2], c='r', marker='x', s=100, label='Observation Point')\n\n# Add arrows for current direction\nfor i in range(4):\n    start = corners[i]\n    end = corners[(i + 1) % 4]\n    ax.quiver(start[0], start[1], start[2], \n              end[0]-start[0], end[1]-start[1], end[2]-start[2], \n              length=0.3, normalize=True, color='g', arrow_length_ratio=0.4)\n\nax.set_xlabel('X-axis')\nax.set_ylabel('Y-axis')\nax.set_zlabel('Z-axis')\nax.set_title('Geometry of the Oriented Rectangular Loop')\nax.legend()\nax.axis('equal')\nplt.show()"
  },
  {
   "cell_type": "markdown",
   "metadata": {},
   "source": [
    "### 2. Numerical B-Field Calculation"
   ]
  },
  {
   "cell_type": "code",
   "execution_count": 3,
   "metadata": {},
   "outputs": [
    {
     "name": "stdout",
     "output_type": "stream",
     "text": [
      "Initializing MTF globals with: _GLOBAL_MAX_ORDER=2, _GLOBAL_MAX_DIMENSION=3\n",
      "Loading/Precomputing Taylor coefficients up to order 2\n",
      "Global precomputed coefficients loading/generation complete.\n",
      "Size of precomputed_coefficients dictionary in memory: 464 bytes, 0.45 KB, 0.00 MB\n",
      "MTF globals initialized: _GLOBAL_MAX_ORDER=2, _GLOBAL_MAX_DIMENSION=3, _INITIALIZED=True\n",
      "Max coefficient count (order=2, nvars=3): 10\n",
      "Precomputed coefficients loaded and ready for use.\n",
      "Computed B-field at the observation point (constant term of the Taylor series):\n",
      "B = [0.000e+00, 1.513e-08, 6.622e-08] Tesla\n"
     ]
    }
   ],
   "source": "# --- MTF Setup ---\ninitialize_mtf_globals(max_order=2, max_dimension=3)\nx = Var(1); y = Var(2); z = Var(3)\n\n# --- Define Field Point for Taylor Expansion ---\n# We expand around the observation point\nfield_point_mtf = np.array([[x + observation_point[0], y + observation_point[1], z + observation_point[2]]], dtype=object)\n\n# --- Calculate the B-field numerically ---\nB_numerical = rectangular_loop_field(\n    p1, p2, p4, current, field_point_mtf, num_segments_per_side=50)\n\nB_numerical_vector = B_numerical[0] # Result has shape (1,3), so get the first row\n\nprint(\"Computed B-field at the observation point (constant term of the Taylor series):\")\nBx = B_numerical_vector[0].extract_coefficient((0,0,0))\nBy = B_numerical_vector[1].extract_coefficient((0,0,0))\nBz = B_numerical_vector[2].extract_coefficient((0,0,0))\nprint(f\"B = [{Bx[0]:.3e}, {By[0]:.3e}, {Bz[0]:.3e}] Tesla\")"
  },
  {
   "cell_type": "markdown",
   "metadata": {},
   "source": [
    "### 3. Conclusion\n",
    "\n",
    "This demo successfully calculates the magnetic field of an arbitrarily oriented rectangular loop by defining it with three corner points. The visualization confirms the geometry, and the function computes the field at the specified observation point. A direct analytical comparison is omitted due to its complexity for an arbitrarily oriented loop."
   ]
  }
 ],
 "metadata": {
  "kernelspec": {
   "display_name": "Python 3",
   "language": "python",
   "name": "python3"
  },
  "language_info": {
   "codemirror_mode": {
    "name": "ipython",
    "version": 3
   },
   "file_extension": ".py",
   "mimetype": "text/x-python",
   "name": "python",
   "nbconvert_exporter": "python",
   "pygments_lexer": "ipython3",
   "version": "3.13.5"
  }
 },
 "nbformat": 4,
 "nbformat_minor": 4
}
