{
 "cells": [
  {
   "cell_type": "markdown",
   "metadata": {},
   "source": [
    "# mtflib User Guide\n",
    "\n",
    "Welcome to the mtflib user guide! This notebook will walk you through the fundamental usage of the `mtflib` for creating and manipulating Multivariate Taylor Functions (MTFs). It assumes you have a basic understanding of Python and Jupyter notebooks."
   ]
  },
  {
   "cell_type": "markdown",
   "metadata": {},
   "source": [
    "## 1. Initialization of Global Settings for MTFs\n",
    "\n",
    "Before working with MTFs, we need to initialize global settings such as the maximum order and dimension for the Taylor series expansions, as well as the global error tolerance.\n",
    "\n",
    "**Important Note**: The global settings for MTF should be initialized only once at the beginning of your session. Modifying these settings after calculations have been performed can lead to unexpected behavior due to inconsistencies in the order and number of variables. If you need to change `max_order` or `max_dimension`, you will need to restart the Jupyter kernel (or your Python session) to ensure a clean initialization."
   ]
  },
  {
   "cell_type": "code",
   "execution_count": 14,
   "metadata": {
    "execution": {
     "iopub.execute_input": "2025-08-20T13:25:05.744874Z",
     "iopub.status.busy": "2025-08-20T13:25:05.744460Z",
     "iopub.status.idle": "2025-08-20T13:25:06.239105Z",
     "shell.execute_reply": "2025-08-20T13:25:06.237518Z"
    }
   },
   "outputs": [
    {
     "name": "stdout",
     "output_type": "stream",
     "text": [
      "MTF globals are already initialized. To change max_order or max_dimension, please restart the session.\n"
     ]
    }
   ],
   "source": [
    "from mtflib import mtf, var, integrate, derivative, mtfarray\n",
    "import numpy as np\n",
    "\n",
    "# Check if MTF globals are already initialized\n",
    "if not mtf.get_mtf_initialized_status():\n",
    "    mtf.initialize_mtf(max_order=8, max_dimension=3)\n",
    "    mtf.set_etol(1e-16)\n",
    "else:\n",
    "    print(\"MTF globals are already initialized. To change max_order or max_dimension, please restart the session.\")"
   ]
  },
  {
   "cell_type": "markdown",
   "metadata": {},
   "source": [
    "## 2. Defining Variables for MTFs\n",
    "\n",
    "Next, we define the symbolic variables that will be used in our Taylor functions.\n",
    "\n",
    "**`var(var_id_int)` Function**: The `var(var_id_int)` function is used to initialize a symbolic variable for Taylor expansion. It creates a first-order Taylor polynomial representing a single variable. The `var_id_int` argument specifies the dimension of the variable, represented as an integer from `1` to `max_dimension` (inclusive). The order of this integer also corresponds to the order of the variable in the coefficient exponent tuple (e.g., for `max_dimension=3`, the first element of the exponent tuple is the power of the variable with ID 1, the second element is the power of the variable with ID 2, and so on)."
   ]
  },
  {
   "cell_type": "code",
   "execution_count": 15,
   "metadata": {
    "execution": {
     "iopub.execute_input": "2025-08-20T13:25:06.436232Z",
     "iopub.status.busy": "2025-08-20T13:25:06.435738Z",
     "iopub.status.idle": "2025-08-20T13:25:06.458197Z",
     "shell.execute_reply": "2025-08-20T13:25:06.457024Z"
    }
   },
   "outputs": [
    {
     "name": "stdout",
     "output_type": "stream",
     "text": [
      "Variable x:\n",
      "         Coefficient  Order  Exponents\n",
      "0 1.000000000000e+00      1  (1, 0, 0)\n",
      "\n",
      "Variable y:\n",
      "         Coefficient  Order  Exponents\n",
      "0 1.000000000000e+00      1  (0, 1, 0)\n",
      "\n",
      "Variable z:\n",
      "         Coefficient  Order  Exponents\n",
      "0 1.000000000000e+00      1  (0, 0, 1)\n",
      "\n",
      "--Explanation of Taylor expansion table view columns--\n",
      "I: Index of the term in the Taylor series expansion (for internal tracking)\n",
      "Coefficient: The numerical value of the Taylor expansion coefficient\n",
      "Order: The total order (sum of exponents) of the Taylor term\n",
      "Exponents: The powers of each variable in the term, corresponding to (power of x, power of y, power of z)\n"
     ]
    }
   ],
   "source": [
    "# Define variables for a 3-dimensional space (since max_dimension is 3)\n",
    "x = var(1)\n",
    "y = var(2)\n",
    "z = var(3)\n",
    "\n",
    "print(f\"Variable x:\\n{x}\")\n",
    "print(f\"Variable y:\\n{y}\")\n",
    "print(f\"Variable z:\\n{z}\")\n",
    "print(\"--Explanation of Taylor expansion table view columns--\")\n",
    "print(\"I: Index of the term in the Taylor series expansion (for internal tracking)\")\n",
    "print(\"Coefficient: The numerical value of the Taylor expansion coefficient\")\n",
    "print(\"Order: The total order (sum of exponents) of the Taylor term\")\n",
    "print(\"Exponents: The powers of each variable in the term, corresponding to (power of x, power of y, power of z)\")"
   ]
  },
  {
   "cell_type": "markdown",
   "metadata": {},
   "source": [
    "## 3. Working with Functions of One Variable\n",
    "\n",
    "Let's start by exploring the `mtf.sin` function, which takes one variable as input. We will demonstrate how to view its Taylor expansion, calculate its derivative and indefinite integral, compare it with the `mtf.cos` function (its analytical derivative), and perform definite integration."
   ]
  },
  {
   "cell_type": "code",
   "execution_count": 16,
   "metadata": {
    "execution": {
     "iopub.execute_input": "2025-08-20T13:25:06.462975Z",
     "iopub.status.busy": "2025-08-20T13:25:06.462449Z",
     "iopub.status.idle": "2025-08-20T13:25:06.489744Z",
     "shell.execute_reply": "2025-08-20T13:25:06.488584Z"
    }
   },
   "outputs": [
    {
     "name": "stdout",
     "output_type": "stream",
     "text": [
      "Taylor expansion of sin(x):\n",
      "          Coefficient  Order  Exponents\n",
      "0  1.000000000000e+00      1  (1, 0, 0)\n",
      "1 -1.666666666667e-01      3  (3, 0, 0)\n",
      "2  8.333333333333e-03      5  (5, 0, 0)\n",
      "3 -1.984126984127e-04      7  (7, 0, 0)\n",
      "\n",
      "Derivative of sin(x) with respect to x:\n",
      "          Coefficient  Order  Exponents\n",
      "0  1.000000000000e+00      0  (0, 0, 0)\n",
      "1 -5.000000000000e-01      2  (2, 0, 0)\n",
      "2  4.166666666667e-02      4  (4, 0, 0)\n",
      "3 -1.388888888889e-03      6  (6, 0, 0)\n",
      "\n",
      "Taylor expansion of cos(x):\n",
      "          Coefficient  Order  Exponents\n",
      "0  1.000000000000e+00      0  (0, 0, 0)\n",
      "1 -5.000000000000e-01      2  (2, 0, 0)\n",
      "2  4.166666666667e-02      4  (4, 0, 0)\n",
      "3 -1.388888888889e-03      6  (6, 0, 0)\n",
      "4  2.480158730159e-05      8  (8, 0, 0)\n",
      "\n"
     ]
    }
   ],
   "source": [
    "# Taylor expansion of sin(x)\n",
    "sin_x = mtf.sin(x)\n",
    "print(f\"Taylor expansion of sin(x):\\n{sin_x}\")\n",
    "\n",
    "# Calculate the first derivative of sin(x) with respect to x (variable index 1)\n",
    "derivative_sin_x = derivative(sin_x, 1)\n",
    "print(f\"Derivative of sin(x) with respect to x:\\n{derivative_sin_x}\")\n",
    "\n",
    "# Compare with the Taylor expansion of cos(x)\n",
    "cos_x = mtf.cos(x)\n",
    "print(f\"Taylor expansion of cos(x):\\n{cos_x}\")"
   ]
  },
  {
   "cell_type": "code",
   "execution_count": 17,
   "metadata": {
    "execution": {
     "iopub.execute_input": "2025-08-20T13:25:06.493293Z",
     "iopub.status.busy": "2025-08-20T13:25:06.492949Z",
     "iopub.status.idle": "2025-08-20T13:25:06.510593Z",
     "shell.execute_reply": "2025-08-20T13:25:06.508794Z"
    }
   },
   "outputs": [
    {
     "name": "stdout",
     "output_type": "stream",
     "text": [
      "Indefinite integral of sin(x) with respect to x:\n",
      "          Coefficient  Order  Exponents\n",
      "0  5.000000000000e-01      2  (2, 0, 0)\n",
      "1 -4.166666666667e-02      4  (4, 0, 0)\n",
      "2  1.388888888889e-03      6  (6, 0, 0)\n",
      "3 -2.480158730159e-05      8  (8, 0, 0)\n",
      "\n",
      "Definite integral of sin(x) from 0 to π/2:\n",
      "                             Coefficient  Order  Exponents\n",
      "0 9.999752627236e-01+0.000000000000e+00j      0  (0, 0, 0)\n",
      "\n"
     ]
    }
   ],
   "source": [
    "# Calculate the indefinite integral of sin(x) with respect to x (variable index 1)\n",
    "indef_integral_sin_x = integrate(sin_x, 1)\n",
    "print(f\"Indefinite integral of sin(x) with respect to x:\\n{indef_integral_sin_x}\")\n",
    "\n",
    "# Calculate the definite integral of sin(x) with respect to x from 0 to π/2\n",
    "def_integral_sin_x = integrate(sin_x, 1, 0, np.pi/2)\n",
    "print(f\"Definite integral of sin(x) from 0 to π/2:\\n{def_integral_sin_x}\")"
   ]
  },
  {
   "cell_type": "markdown",
   "metadata": {},
   "source": [
    "## 4. Working with Functions of Multiple Variables\n",
    "\n",
    "Now, let's explore functions that depend on multiple variables. We will look at examples of creating such functions, evaluate them at a specific point using the `eval` method, and perform differentiation and integration with respect to different variables."
   ]
  },
  {
   "cell_type": "code",
   "execution_count": 18,
   "metadata": {
    "execution": {
     "iopub.execute_input": "2025-08-20T13:25:06.514837Z",
     "iopub.status.busy": "2025-08-20T13:25:06.514341Z",
     "iopub.status.idle": "2025-08-20T13:25:06.567979Z",
     "shell.execute_reply": "2025-08-20T13:25:06.566831Z"
    }
   },
   "outputs": [
    {
     "name": "stdout",
     "output_type": "stream",
     "text": [
      "Taylor expansion of exp(x + y**4 + z**6):\n",
      "          Coefficient  Order  Exponents\n",
      "0  1.000000000000e+00      0  (0, 0, 0)\n",
      "1  1.000000000000e+00      1  (1, 0, 0)\n",
      "2  5.000000000000e-01      2  (2, 0, 0)\n",
      "3  1.666666666667e-01      3  (3, 0, 0)\n",
      "4  4.166666666667e-02      4  (4, 0, 0)\n",
      "5  1.000000000000e+00      4  (0, 4, 0)\n",
      "6  8.333333333333e-03      5  (5, 0, 0)\n",
      "7  1.000000000000e+00      5  (1, 4, 0)\n",
      "8  1.388888888889e-03      6  (6, 0, 0)\n",
      "9  5.000000000000e-01      6  (2, 4, 0)\n",
      "10 1.000000000000e+00      6  (0, 0, 6)\n",
      "11 1.984126984127e-04      7  (7, 0, 0)\n",
      "12 1.666666666667e-01      7  (3, 4, 0)\n",
      "13 1.000000000000e+00      7  (1, 0, 6)\n",
      "14 2.480158730159e-05      8  (8, 0, 0)\n",
      "15 4.166666666667e-02      8  (4, 4, 0)\n",
      "16 5.000000000000e-01      8  (2, 0, 6)\n",
      "17 5.000000000000e-01      8  (0, 8, 0)\n",
      "\n",
      "Indefinite integral of exp(x + y**4 + z**6) with respect to y:\n",
      "          Coefficient  Order  Exponents\n",
      "0  1.000000000000e+00      1  (0, 1, 0)\n",
      "1  1.000000000000e+00      2  (1, 1, 0)\n",
      "2  5.000000000000e-01      3  (2, 1, 0)\n",
      "3  1.666666666667e-01      4  (3, 1, 0)\n",
      "4  4.166666666667e-02      5  (4, 1, 0)\n",
      "5  2.000000000000e-01      5  (0, 5, 0)\n",
      "6  8.333333333333e-03      6  (5, 1, 0)\n",
      "7  2.000000000000e-01      6  (1, 5, 0)\n",
      "8  1.388888888889e-03      7  (6, 1, 0)\n",
      "9  1.000000000000e-01      7  (2, 5, 0)\n",
      "10 1.000000000000e+00      7  (0, 1, 6)\n",
      "11 1.984126984127e-04      8  (7, 1, 0)\n",
      "12 3.333333333333e-02      8  (3, 5, 0)\n",
      "13 1.000000000000e+00      8  (1, 1, 6)\n",
      "14 2.480158730159e-05      9  (8, 1, 0)\n",
      "15 8.333333333333e-03      9  (4, 5, 0)\n",
      "16 5.000000000000e-01      9  (2, 1, 6)\n",
      "17 5.555555555556e-02      9  (0, 9, 0)\n",
      "\n",
      "Definite integral of exp(x + y**4 + z**6) with respect to y from 0 to 1:\n",
      "                              Coefficient  Order  Exponents\n",
      "0  1.255555555556e+00+0.000000000000e+00j      0  (0, 0, 0)\n",
      "1  1.200000000000e+00+0.000000000000e+00j      1  (1, 0, 0)\n",
      "2  6.000000000000e-01+0.000000000000e+00j      2  (2, 0, 0)\n",
      "3  2.000000000000e-01+0.000000000000e+00j      3  (3, 0, 0)\n",
      "4  5.000000000000e-02+0.000000000000e+00j      4  (4, 0, 0)\n",
      "5  8.333333333333e-03+0.000000000000e+00j      5  (5, 0, 0)\n",
      "6  1.388888888889e-03+0.000000000000e+00j      6  (6, 0, 0)\n",
      "7  1.000000000000e+00+0.000000000000e+00j      6  (0, 0, 6)\n",
      "8  1.984126984127e-04+0.000000000000e+00j      7  (7, 0, 0)\n",
      "9  1.000000000000e+00+0.000000000000e+00j      7  (1, 0, 6)\n",
      "10 2.480158730159e-05+0.000000000000e+00j      8  (8, 0, 0)\n",
      "11 5.000000000000e-01+0.000000000000e+00j      8  (2, 0, 6)\n",
      "\n",
      "Derivative of exp(x + y**4 + z**6) with respect to z:\n",
      "         Coefficient  Order  Exponents\n",
      "0 6.000000000000e+00      5  (0, 0, 5)\n",
      "1 6.000000000000e+00      6  (1, 0, 5)\n",
      "2 3.000000000000e+00      7  (2, 0, 5)\n",
      "\n",
      "Evaluation of exp(x + y**4 + z**6) at [1, 0, 0]: [2.71827877]\n"
     ]
    }
   ],
   "source": [
    "# Define a Taylor function with three variables: exp(x + y**4 + z**6)\n",
    "exp_xyz = mtf.exp(x + y**4 + z**6)\n",
    "print(f\"Taylor expansion of exp(x + y**4 + z**6):\\n{exp_xyz}\")\n",
    "\n",
    "# Calculate the indefinite integral with respect to y (variable index 2)\n",
    "indef_integral_exp_xyz = integrate(exp_xyz, 2)\n",
    "print(f\"Indefinite integral of exp(x + y**4 + z**6) with respect to y:\\n{indef_integral_exp_xyz}\")\n",
    "\n",
    "# Calculate the definite integral with respect to y (variable index 2) from 0 to 1\n",
    "def_integral_exp_xyz = integrate(exp_xyz, 2, 0, 1)\n",
    "print(f\"Definite integral of exp(x + y**4 + z**6) with respect to y from 0 to 1:\\n{def_integral_exp_xyz}\")\n",
    "\n",
    "# Calculate the first derivative with respect to z (variable index 3)\n",
    "derivative_exp_xyz = derivative(exp_xyz, 3)\n",
    "print(f\"Derivative of exp(x + y**4 + z**6) with respect to z:\\n{derivative_exp_xyz}\")\n",
    "\n",
    "# Evaluate the function at the point [x=1, y=0, z=0]. The `eval` method takes a NumPy array representing the point.\n",
    "eval_point = np.array([1, 0, 0])\n",
    "eval_result = exp_xyz.eval(eval_point)\n",
    "print(f\"Evaluation of exp(x + y**4 + z**6) at [1, 0, 0]: {eval_result}\")"
   ]
  },
  {
   "cell_type": "markdown",
   "metadata": {},
   "source": [
    "## 5. Substitution and Composition of MTFs\n",
    "\n",
    "This section demonstrates how to substitute variables within an MTF with constant values or other MTFs, and how to compose MTFs using the `compose` operation."
   ]
  },
  {
   "cell_type": "markdown",
   "metadata": {},
   "source": [
    "### 5.1 Substitution with a Constant\n",
    "\n",
    "The `substitute_variable(var_index, constant_value)` method allows you to replace a specific variable in an MTF with a constant value. The `var_index` argument is the 1-based index of the variable to substitute, and `constant_value` is the numerical value to replace it with."
   ]
  },
  {
   "cell_type": "code",
   "execution_count": 19,
   "metadata": {
    "execution": {
     "iopub.execute_input": "2025-08-20T13:25:06.572330Z",
     "iopub.status.busy": "2025-08-20T13:25:06.571980Z",
     "iopub.status.idle": "2025-08-20T13:25:06.586976Z",
     "shell.execute_reply": "2025-08-20T13:25:06.585737Z"
    }
   },
   "outputs": [
    {
     "name": "stdout",
     "output_type": "stream",
     "text": [
      "Original MTF: f(x, y, z) =\n",
      "         Coefficient  Order  Exponents\n",
      "0 1.000000000000e+00      1  (1, 0, 0)\n",
      "1 1.000000000000e+00      1  (0, 1, 0)\n",
      "2 1.000000000000e+00      4  (0, 0, 4)\n",
      "\n",
      "After substituting x with 0.1: g(y, z) =\n",
      "                             Coefficient  Order  Exponents\n",
      "0 1.000000000000e-01+0.000000000000e+00j      0  (0, 0, 0)\n",
      "1 1.000000000000e+00+0.000000000000e+00j      1  (0, 1, 0)\n",
      "2 1.000000000000e+00+0.000000000000e+00j      4  (0, 0, 4)\n",
      "\n"
     ]
    }
   ],
   "source": [
    "# Define a simple MTF: f(x, y, z) = x + y + z**4\n",
    "fxyz = x + y + z**4\n",
    "print(f\"Original MTF: f(x, y, z) =\\n{fxyz}\")\n",
    "\n",
    "# Substitute x (variable index 1) with the constant 0.1\n",
    "gxyz = fxyz.substitute_variable(1, 0.1)\n",
    "print(f\"After substituting x with 0.1: g(y, z) =\\n{gxyz}\")"
   ]
  },
  {
   "cell_type": "markdown",
   "metadata": {},
   "source": [
    "### 5.2 Composition with Other MTFs\n",
    "\n",
    "The `mtf_instance.compose(substitution_dict)` method allows you to substitute variables in an MTF with other MTFs. The `substitution_dict` is a Python dictionary where the keys are the 1-based indices of the variables to be substituted in `mtf_instance`, and the values are the MTFs that will replace those variables."
   ]
  },
  {
   "cell_type": "code",
   "execution_count": 20,
   "metadata": {
    "execution": {
     "iopub.execute_input": "2025-08-20T13:25:06.591501Z",
     "iopub.status.busy": "2025-08-20T13:25:06.590888Z",
     "iopub.status.idle": "2025-08-20T13:25:06.628796Z",
     "shell.execute_reply": "2025-08-20T13:25:06.626505Z"
    }
   },
   "outputs": [
    {
     "name": "stdout",
     "output_type": "stream",
     "text": [
      "Outer MTF before substitution: f(x, y) =\n",
      "         Coefficient  Order  Exponents\n",
      "0 1.000000000000e+00      2  (2, 0, 0)\n",
      "1 1.000000000000e+00      3  (0, 3, 0)\n",
      "\n",
      "Outer MTF after substitution: f(g(y), h(y, z)) =\n",
      "         Coefficient  Order  Exponents\n",
      "0 2.000000000000e+00      0  (0, 0, 0)\n",
      "1 2.000000000000e+00      1  (0, 1, 0)\n",
      "2 1.000000000000e+00      2  (0, 2, 0)\n",
      "3 3.000000000000e+00      2  (0, 1, 1)\n",
      "4 3.000000000000e+00      4  (0, 2, 2)\n",
      "5 1.000000000000e+00      6  (0, 3, 3)\n",
      "\n"
     ]
    }
   ],
   "source": [
    "# Define the outer MTF: f(x, y) = x**2 + y**3 (in a space of at least 2 dimensions)\n",
    "fxy = x**2 + y**3\n",
    "print(f'Outer MTF before substitution: f(x, y) =\\n{fxy}')\n",
    "\n",
    "# Define the substituting MTFs:\n",
    "# Substitute x (index 1) with g(y) = 1 + y\n",
    "g_y = 1 + y\n",
    "# Substitute y (index 2) with h(y, z) = 1 + y * z\n",
    "h_yz = 1 + y * z\n",
    "\n",
    "# Create the substitution dictionary\n",
    "substitution_dict = {\n",
    "    1: g_y,  # Substitute x with g(y)\n",
    "    2: h_yz    # Substitute y with h(y, z)\n",
    "}\n",
    "\n",
    "# Perform the composition using the new compose method\n",
    "composed_f = fxy.compose(substitution_dict)\n",
    "print(f'Outer MTF after substitution: f(g(y), h(y, z)) =\\n{composed_f}')"
   ]
  },
  {
   "cell_type": "markdown",
   "metadata": {},
   "source": [
    "## 6. Further Operations with MTFs\n",
    "\n",
    "This section demonstrates some common arithmetic and comparison operations that can be performed with MTF objects, as well as how to access their coefficients."
   ]
  },
  {
   "cell_type": "markdown",
   "metadata": {},
   "source": [
    "### 6.1 Arithmetic Operations"
   ]
  },
  {
   "cell_type": "code",
   "execution_count": 21,
   "metadata": {
    "execution": {
     "iopub.execute_input": "2025-08-20T13:25:06.636228Z",
     "iopub.status.busy": "2025-08-20T13:25:06.635495Z",
     "iopub.status.idle": "2025-08-20T13:25:06.689370Z",
     "shell.execute_reply": "2025-08-20T13:25:06.688289Z"
    }
   },
   "outputs": [
    {
     "name": "stdout",
     "output_type": "stream",
     "text": [
      "sin(x) + cos(x) =\n",
      "          Coefficient  Order  Exponents\n",
      "0  1.000000000000e+00      0  (0, 0, 0)\n",
      "1  1.000000000000e+00      1  (1, 0, 0)\n",
      "2 -5.000000000000e-01      2  (2, 0, 0)\n",
      "3 -1.666666666667e-01      3  (3, 0, 0)\n",
      "4  4.166666666667e-02      4  (4, 0, 0)\n",
      "5  8.333333333333e-03      5  (5, 0, 0)\n",
      "6 -1.388888888889e-03      6  (6, 0, 0)\n",
      "7 -1.984126984127e-04      7  (7, 0, 0)\n",
      "8  2.480158730159e-05      8  (8, 0, 0)\n",
      "\n",
      "sin(x) - cos(x) =\n",
      "          Coefficient  Order  Exponents\n",
      "0 -1.000000000000e+00      0  (0, 0, 0)\n",
      "1  1.000000000000e+00      1  (1, 0, 0)\n",
      "2  5.000000000000e-01      2  (2, 0, 0)\n",
      "3 -1.666666666667e-01      3  (3, 0, 0)\n",
      "4 -4.166666666667e-02      4  (4, 0, 0)\n",
      "5  8.333333333333e-03      5  (5, 0, 0)\n",
      "6  1.388888888889e-03      6  (6, 0, 0)\n",
      "7 -1.984126984127e-04      7  (7, 0, 0)\n",
      "8 -2.480158730159e-05      8  (8, 0, 0)\n",
      "\n",
      "2 * sin(x) =\n",
      "          Coefficient  Order  Exponents\n",
      "0  2.000000000000e+00      1  (1, 0, 0)\n",
      "1 -3.333333333333e-01      3  (3, 0, 0)\n",
      "2  1.666666666667e-02      5  (5, 0, 0)\n",
      "3 -3.968253968254e-04      7  (7, 0, 0)\n",
      "\n",
      "x * sin(x) =\n",
      "          Coefficient  Order  Exponents\n",
      "0  1.000000000000e+00      2  (2, 0, 0)\n",
      "1 -1.666666666667e-01      4  (4, 0, 0)\n",
      "2  8.333333333333e-03      6  (6, 0, 0)\n",
      "3 -1.984126984127e-04      8  (8, 0, 0)\n",
      "\n",
      "x^2 =\n",
      "         Coefficient  Order  Exponents\n",
      "0 1.000000000000e+00      2  (2, 0, 0)\n",
      "\n"
     ]
    }
   ],
   "source": [
    "# Define some MTFs to work with\n",
    "sin_x = mtf.sin(x)\n",
    "cos_x = mtf.cos(x)\n",
    "\n",
    "# Addition\n",
    "sum_tf = sin_x + cos_x\n",
    "print(f\"sin(x) + cos(x) =\\n{sum_tf}\")\n",
    "\n",
    "# Subtraction\n",
    "diff_tf = sin_x - cos_x\n",
    "print(f\"sin(x) - cos(x) =\\n{diff_tf}\")\n",
    "\n",
    "# Multiplication by a scalar\n",
    "scaled_sin_x = 2 * sin_x\n",
    "print(f\"2 * sin(x) =\\n{scaled_sin_x}\")\n",
    "\n",
    "# Multiplication of two MTFs\n",
    "product_tf = x * sin_x\n",
    "print(f\"x * sin(x) =\\n{product_tf}\")\n",
    "\n",
    "# Power of an MTF\n",
    "squared_x = x**2\n",
    "print(f\"x^2 =\\n{squared_x}\")"
   ]
  },
  {
   "cell_type": "markdown",
   "metadata": {},
   "source": [
    "### 6.2 Comparison"
   ]
  },
  {
   "cell_type": "code",
   "execution_count": 22,
   "metadata": {
    "execution": {
     "iopub.execute_input": "2025-08-20T13:25:06.693113Z",
     "iopub.status.busy": "2025-08-20T13:25:06.692781Z",
     "iopub.status.idle": "2025-08-20T13:25:06.709595Z",
     "shell.execute_reply": "2025-08-20T13:25:06.708545Z"
    }
   },
   "outputs": [
    {
     "name": "stdout",
     "output_type": "stream",
     "text": [
      "Is sin(x) == sin(x) again? True\n",
      "Is sin(x) == cos(x + 0.1)? False\n"
     ]
    }
   ],
   "source": [
    "# Comparing MTFs for equality\n",
    "sin_x_again = mtf.sin(x)\n",
    "are_equal = (sin_x == sin_x_again)\n",
    "print(f\"Is sin(x) == sin(x) again? {are_equal}\")\n",
    "\n",
    "cos_x_shifted = mtf.cos(x + 0.1)\n",
    "are_unequal = (mtf.sin(x) == cos_x_shifted)\n",
    "print(f\"Is sin(x) == cos(x + 0.1)? {are_unequal}\")"
   ]
  },
  {
   "cell_type": "markdown",
   "metadata": {},
   "source": [
    "### 6.3 Accessing Coefficients"
   ]
  },
  {
   "cell_type": "code",
   "execution_count": 23,
   "metadata": {
    "execution": {
     "iopub.execute_input": "2025-08-20T13:25:06.713286Z",
     "iopub.status.busy": "2025-08-20T13:25:06.712959Z",
     "iopub.status.idle": "2025-08-20T13:25:06.724738Z",
     "shell.execute_reply": "2025-08-20T13:25:06.723327Z"
    }
   },
   "outputs": [
    {
     "name": "stdout",
     "output_type": "stream",
     "text": [
      "Coefficients of sin(x):\n",
      "{(np.int32(1), np.int32(0), np.int32(0)): np.float64(1.0), (np.int32(3), np.int32(0), np.int32(0)): np.float64(-0.16666666666666666), (np.int32(5), np.int32(0), np.int32(0)): np.float64(0.008333333333333333), (np.int32(7), np.int32(0), np.int32(0)): np.float64(-0.0001984126984126984)}\n",
      "Iterating through coefficients:\n",
      "Exponent tuple: (1, 0, 0), Coefficient: 1.0\n",
      "Exponent tuple: (3, 0, 0), Coefficient: -0.16666666666666666\n",
      "Exponent tuple: (5, 0, 0), Coefficient: 0.008333333333333333\n",
      "Exponent tuple: (7, 0, 0), Coefficient: -0.0001984126984126984\n"
     ]
    }
   ],
   "source": [
    "# Accessing the coefficients of an MTF\n",
    "sin_x_for_coeffs = mtf.sin(x)\n",
    "coefficients_sin_x = {tuple(exp): coeff for exp, coeff in zip(sin_x_for_coeffs.exponents, sin_x_for_coeffs.coeffs)}\n",
    "print(f\"Coefficients of sin(x):\\n{coefficients_sin_x}\")\n",
    "print(\"Iterating through coefficients:\")\n",
    "for exponents, coefficient in coefficients_sin_x.items():\n",
    "    exponents = tuple(int(x) for x in exponents) # convert from np.int64 to int\n",
    "    print(f\"Exponent tuple: {exponents}, Coefficient: {coefficient}\")"
   ]
  },
  {
   "cell_type": "markdown",
   "metadata": {},
   "source": [
    "### 6.4 Creating Constant and Zero MTFs"
   ]
  },
  {
   "cell_type": "code",
   "execution_count": 24,
   "metadata": {
    "execution": {
     "iopub.execute_input": "2025-08-20T13:25:06.728396Z",
     "iopub.status.busy": "2025-08-20T13:25:06.728050Z",
     "iopub.status.idle": "2025-08-20T13:25:06.742042Z",
     "shell.execute_reply": "2025-08-20T13:25:06.740587Z"
    }
   },
   "outputs": [
    {
     "name": "stdout",
     "output_type": "stream",
     "text": [
      "Constant MTF (value 5):\n",
      "         Coefficient  Order  Exponents\n",
      "0 5.000000000000e+00      0  (0, 0, 0)\n",
      "\n",
      "Zero MTF:\n",
      "         Coefficient  Order  Exponents\n",
      "0 0.000000000000e+00      1  (1, 0, 0)\n",
      "\n"
     ]
    }
   ],
   "source": [
    "# Creating a constant MTF\n",
    "    # We will use \"mtf\" which is an alias for MultivariateTaylorFunction class\\n\n",
    "constant_tf = mtf.from_constant(5)\n",
    "print(f\"Constant MTF (value 5):\\n{constant_tf}\")\n",
    "\n",
    "# Creating a zero MTF\n",
    "zero_tf = 0 * x\n",
    "print(f\"Zero MTF:\\n{zero_tf}\")"
   ]
  },
  {
   "cell_type": "markdown",
   "metadata": {},
   "source": [
    "## 7. Other Elementary Functions and Taylor Expansion Examples\n",
    "\n",
    "`mtflib` provides Taylor expansions for various other elementary functions. Here are a few examples. Note that these functions also return `MultivariateTaylorFunction` objects."
   ]
  },
  {
   "cell_type": "code",
   "execution_count": 25,
   "metadata": {
    "execution": {
     "iopub.execute_input": "2025-08-20T13:25:06.745861Z",
     "iopub.status.busy": "2025-08-20T13:25:06.745458Z",
     "iopub.status.idle": "2025-08-20T13:25:06.859338Z",
     "shell.execute_reply": "2025-08-20T13:25:06.858123Z"
    }
   },
   "outputs": [
    {
     "name": "stdout",
     "output_type": "stream",
     "text": [
      "\n",
      "Taylor expansion of exp(x):\n",
      "         Coefficient  Order  Exponents\n",
      "0 1.000000000000e+00      0  (0, 0, 0)\n",
      "1 1.000000000000e+00      1  (1, 0, 0)\n",
      "2 5.000000000000e-01      2  (2, 0, 0)\n",
      "3 1.666666666667e-01      3  (3, 0, 0)\n",
      "4 4.166666666667e-02      4  (4, 0, 0)\n",
      "5 8.333333333333e-03      5  (5, 0, 0)\n",
      "6 1.388888888889e-03      6  (6, 0, 0)\n",
      "7 1.984126984127e-04      7  (7, 0, 0)\n",
      "8 2.480158730159e-05      8  (8, 0, 0)\n",
      "\n",
      "\n",
      "Taylor expansion of gaussian(x):\n",
      "          Coefficient  Order  Exponents\n",
      "0  1.000000000000e+00      0  (0, 0, 0)\n",
      "1 -1.000000000000e+00      2  (2, 0, 0)\n",
      "2  5.000000000000e-01      4  (4, 0, 0)\n",
      "3 -1.666666666667e-01      6  (6, 0, 0)\n",
      "4  4.166666666667e-02      8  (8, 0, 0)\n",
      "\n",
      "\n",
      "Taylor expansion of sqrt(1+x):\n",
      "          Coefficient  Order  Exponents\n",
      "0  1.000000000000e+00      0  (0, 0, 0)\n",
      "1  5.000000000000e-01      1  (1, 0, 0)\n",
      "2 -1.250000000000e-01      2  (2, 0, 0)\n",
      "3  6.250000000000e-02      3  (3, 0, 0)\n",
      "4 -3.906250000000e-02      4  (4, 0, 0)\n",
      "5  2.734375000000e-02      5  (5, 0, 0)\n",
      "6 -2.050781250000e-02      6  (6, 0, 0)\n",
      "7  1.611328125000e-02      7  (7, 0, 0)\n",
      "8 -1.309204101562e-02      8  (8, 0, 0)\n",
      "\n",
      "\n",
      "Taylor expansion of log(1+y):\n",
      "          Coefficient  Order  Exponents\n",
      "0  1.000000000000e+00      1  (0, 1, 0)\n",
      "1 -5.000000000000e-01      2  (0, 2, 0)\n",
      "2  3.333333333333e-01      3  (0, 3, 0)\n",
      "3 -2.500000000000e-01      4  (0, 4, 0)\n",
      "4  2.000000000000e-01      5  (0, 5, 0)\n",
      "5 -1.666666666667e-01      6  (0, 6, 0)\n",
      "6  1.428571428571e-01      7  (0, 7, 0)\n",
      "7 -1.250000000000e-01      8  (0, 8, 0)\n",
      "\n",
      "\n",
      "Taylor expansion of arctan(x + 2y + 0.5z):\n",
      "           Coefficient  Order  Exponents\n",
      "0   1.000000000000e+00      1  (1, 0, 0)\n",
      "1   2.000000000000e+00      1  (0, 1, 0)\n",
      "2   5.000000000000e-01      1  (0, 0, 1)\n",
      "3  -3.333333333333e-01      3  (3, 0, 0)\n",
      "4  -2.000000000000e+00      3  (2, 1, 0)\n",
      "5  -5.000000000000e-01      3  (2, 0, 1)\n",
      "6  -4.000000000000e+00      3  (1, 2, 0)\n",
      "7  -2.000000000000e+00      3  (1, 1, 1)\n",
      "8  -2.500000000000e-01      3  (1, 0, 2)\n",
      "9  -2.666666666667e+00      3  (0, 3, 0)\n",
      "10 -2.000000000000e+00      3  (0, 2, 1)\n",
      "11 -5.000000000000e-01      3  (0, 1, 2)\n",
      "12 -4.166666666667e-02      3  (0, 0, 3)\n",
      "13  2.000000000000e-01      5  (5, 0, 0)\n",
      "14  2.000000000000e+00      5  (4, 1, 0)\n",
      "15  5.000000000000e-01      5  (4, 0, 1)\n",
      "16  8.000000000000e+00      5  (3, 2, 0)\n",
      "17  4.000000000000e+00      5  (3, 1, 1)\n",
      "18  5.000000000000e-01      5  (3, 0, 2)\n",
      "19  1.600000000000e+01      5  (2, 3, 0)\n",
      "20  1.200000000000e+01      5  (2, 2, 1)\n",
      "21  3.000000000000e+00      5  (2, 1, 2)\n",
      "22  2.500000000000e-01      5  (2, 0, 3)\n",
      "23  1.600000000000e+01      5  (1, 4, 0)\n",
      "24  1.600000000000e+01      5  (1, 3, 1)\n",
      "25  6.000000000000e+00      5  (1, 2, 2)\n",
      "26  1.000000000000e+00      5  (1, 1, 3)\n",
      "27  6.250000000000e-02      5  (1, 0, 4)\n",
      "28  6.400000000000e+00      5  (0, 5, 0)\n",
      "29  8.000000000000e+00      5  (0, 4, 1)\n",
      "30  4.000000000000e+00      5  (0, 3, 2)\n",
      "31  1.000000000000e+00      5  (0, 2, 3)\n",
      "32  1.250000000000e-01      5  (0, 1, 4)\n",
      "33  6.250000000000e-03      5  (0, 0, 5)\n",
      "34 -1.428571428571e-01      7  (7, 0, 0)\n",
      "35 -2.000000000000e+00      7  (6, 1, 0)\n",
      "36 -5.000000000000e-01      7  (6, 0, 1)\n",
      "37 -1.200000000000e+01      7  (5, 2, 0)\n",
      "38 -6.000000000000e+00      7  (5, 1, 1)\n",
      "39 -7.500000000000e-01      7  (5, 0, 2)\n",
      "40 -4.000000000000e+01      7  (4, 3, 0)\n",
      "41 -3.000000000000e+01      7  (4, 2, 1)\n",
      "42 -7.500000000000e+00      7  (4, 1, 2)\n",
      "43 -6.250000000000e-01      7  (4, 0, 3)\n",
      "44 -8.000000000000e+01      7  (3, 4, 0)\n",
      "45 -8.000000000000e+01      7  (3, 3, 1)\n",
      "46 -3.000000000000e+01      7  (3, 2, 2)\n",
      "47 -5.000000000000e+00      7  (3, 1, 3)\n",
      "48 -3.125000000000e-01      7  (3, 0, 4)\n",
      "49 -9.600000000000e+01      7  (2, 5, 0)\n",
      "50 -1.200000000000e+02      7  (2, 4, 1)\n",
      "51 -6.000000000000e+01      7  (2, 3, 2)\n",
      "52 -1.500000000000e+01      7  (2, 2, 3)\n",
      "53 -1.875000000000e+00      7  (2, 1, 4)\n",
      "54 -9.375000000000e-02      7  (2, 0, 5)\n",
      "55 -6.400000000000e+01      7  (1, 6, 0)\n",
      "56 -9.600000000000e+01      7  (1, 5, 1)\n",
      "57 -6.000000000000e+01      7  (1, 4, 2)\n",
      "58 -2.000000000000e+01      7  (1, 3, 3)\n",
      "59 -3.750000000000e+00      7  (1, 2, 4)\n",
      "60 -3.750000000000e-01      7  (1, 1, 5)\n",
      "61 -1.562500000000e-02      7  (1, 0, 6)\n",
      "62 -1.828571428571e+01      7  (0, 7, 0)\n",
      "63 -3.200000000000e+01      7  (0, 6, 1)\n",
      "64 -2.400000000000e+01      7  (0, 5, 2)\n",
      "65 -1.000000000000e+01      7  (0, 4, 3)\n",
      "66 -2.500000000000e+00      7  (0, 3, 4)\n",
      "67 -3.750000000000e-01      7  (0, 2, 5)\n",
      "68 -3.125000000000e-02      7  (0, 1, 6)\n",
      "69 -1.116071428571e-03      7  (0, 0, 7)\n",
      "\n",
      "\n",
      "Taylor expansion of 1/(1+x**2+y+.3*z):\n",
      "           Coefficient  Order  Exponents\n",
      "0   1.000000000000e+00      0  (0, 0, 0)\n",
      "1  -1.000000000000e+00      1  (0, 1, 0)\n",
      "2  -3.000000000000e-01      1  (0, 0, 1)\n",
      "3  -1.000000000000e+00      2  (2, 0, 0)\n",
      "4   1.000000000000e+00      2  (0, 2, 0)\n",
      "5   6.000000000000e-01      2  (0, 1, 1)\n",
      "6   9.000000000000e-02      2  (0, 0, 2)\n",
      "7   2.000000000000e+00      3  (2, 1, 0)\n",
      "8   6.000000000000e-01      3  (2, 0, 1)\n",
      "9  -1.000000000000e+00      3  (0, 3, 0)\n",
      "10 -9.000000000000e-01      3  (0, 2, 1)\n",
      "11 -2.700000000000e-01      3  (0, 1, 2)\n",
      "12 -2.700000000000e-02      3  (0, 0, 3)\n",
      "13  1.000000000000e+00      4  (4, 0, 0)\n",
      "14 -3.000000000000e+00      4  (2, 2, 0)\n",
      "15 -1.800000000000e+00      4  (2, 1, 1)\n",
      "16 -2.700000000000e-01      4  (2, 0, 2)\n",
      "17  1.000000000000e+00      4  (0, 4, 0)\n",
      "18  1.200000000000e+00      4  (0, 3, 1)\n",
      "19  5.400000000000e-01      4  (0, 2, 2)\n",
      "20  1.080000000000e-01      4  (0, 1, 3)\n",
      "21  8.100000000000e-03      4  (0, 0, 4)\n",
      "22 -3.000000000000e+00      5  (4, 1, 0)\n",
      "23 -9.000000000000e-01      5  (4, 0, 1)\n",
      "24  4.000000000000e+00      5  (2, 3, 0)\n",
      "25  3.600000000000e+00      5  (2, 2, 1)\n",
      "26  1.080000000000e+00      5  (2, 1, 2)\n",
      "27  1.080000000000e-01      5  (2, 0, 3)\n",
      "28 -1.000000000000e+00      5  (0, 5, 0)\n",
      "29 -1.500000000000e+00      5  (0, 4, 1)\n",
      "30 -9.000000000000e-01      5  (0, 3, 2)\n",
      "31 -2.700000000000e-01      5  (0, 2, 3)\n",
      "32 -4.050000000000e-02      5  (0, 1, 4)\n",
      "33 -2.430000000000e-03      5  (0, 0, 5)\n",
      "34 -1.000000000000e+00      6  (6, 0, 0)\n",
      "35  6.000000000000e+00      6  (4, 2, 0)\n",
      "36  3.600000000000e+00      6  (4, 1, 1)\n",
      "37  5.400000000000e-01      6  (4, 0, 2)\n",
      "38 -5.000000000000e+00      6  (2, 4, 0)\n",
      "39 -6.000000000000e+00      6  (2, 3, 1)\n",
      "40 -2.700000000000e+00      6  (2, 2, 2)\n",
      "41 -5.400000000000e-01      6  (2, 1, 3)\n",
      "42 -4.050000000000e-02      6  (2, 0, 4)\n",
      "43  1.000000000000e+00      6  (0, 6, 0)\n",
      "44  1.800000000000e+00      6  (0, 5, 1)\n",
      "45  1.350000000000e+00      6  (0, 4, 2)\n",
      "46  5.400000000000e-01      6  (0, 3, 3)\n",
      "47  1.215000000000e-01      6  (0, 2, 4)\n",
      "48  1.458000000000e-02      6  (0, 1, 5)\n",
      "49  7.290000000000e-04      6  (0, 0, 6)\n",
      "50  4.000000000000e+00      7  (6, 1, 0)\n",
      "51  1.200000000000e+00      7  (6, 0, 1)\n",
      "52 -1.000000000000e+01      7  (4, 3, 0)\n",
      "53 -9.000000000000e+00      7  (4, 2, 1)\n",
      "54 -2.700000000000e+00      7  (4, 1, 2)\n",
      "55 -2.700000000000e-01      7  (4, 0, 3)\n",
      "56  6.000000000000e+00      7  (2, 5, 0)\n",
      "57  9.000000000000e+00      7  (2, 4, 1)\n",
      "58  5.400000000000e+00      7  (2, 3, 2)\n",
      "59  1.620000000000e+00      7  (2, 2, 3)\n",
      "60  2.430000000000e-01      7  (2, 1, 4)\n",
      "61  1.458000000000e-02      7  (2, 0, 5)\n",
      "62 -1.000000000000e+00      7  (0, 7, 0)\n",
      "63 -2.100000000000e+00      7  (0, 6, 1)\n",
      "64 -1.890000000000e+00      7  (0, 5, 2)\n",
      "65 -9.450000000000e-01      7  (0, 4, 3)\n",
      "66 -2.835000000000e-01      7  (0, 3, 4)\n",
      "67 -5.103000000000e-02      7  (0, 2, 5)\n",
      "68 -5.103000000000e-03      7  (0, 1, 6)\n",
      "69 -2.187000000000e-04      7  (0, 0, 7)\n",
      "70  1.000000000000e+00      8  (8, 0, 0)\n",
      "71 -1.000000000000e+01      8  (6, 2, 0)\n",
      "72 -6.000000000000e+00      8  (6, 1, 1)\n",
      "73 -9.000000000000e-01      8  (6, 0, 2)\n",
      "74  1.500000000000e+01      8  (4, 4, 0)\n",
      "75  1.800000000000e+01      8  (4, 3, 1)\n",
      "76  8.100000000000e+00      8  (4, 2, 2)\n",
      "77  1.620000000000e+00      8  (4, 1, 3)\n",
      "78  1.215000000000e-01      8  (4, 0, 4)\n",
      "79 -7.000000000000e+00      8  (2, 6, 0)\n",
      "80 -1.260000000000e+01      8  (2, 5, 1)\n",
      "81 -9.450000000000e+00      8  (2, 4, 2)\n",
      "82 -3.780000000000e+00      8  (2, 3, 3)\n",
      "83 -8.505000000000e-01      8  (2, 2, 4)\n",
      "84 -1.020600000000e-01      8  (2, 1, 5)\n",
      "85 -5.103000000000e-03      8  (2, 0, 6)\n",
      "86  1.000000000000e+00      8  (0, 8, 0)\n",
      "87  2.400000000000e+00      8  (0, 7, 1)\n",
      "88  2.520000000000e+00      8  (0, 6, 2)\n",
      "89  1.512000000000e+00      8  (0, 5, 3)\n",
      "90  5.670000000000e-01      8  (0, 4, 4)\n",
      "91  1.360800000000e-01      8  (0, 3, 5)\n",
      "92  2.041200000000e-02      8  (0, 2, 6)\n",
      "93  1.749600000000e-03      8  (0, 1, 7)\n",
      "94  6.561000000000e-05      8  (0, 0, 8)\n",
      "\n"
     ]
    }
   ],
   "source": [
    "# Taylor expansion of exp(x)\n",
    "exp_x_tf = mtf.exp(x)\n",
    "print(f\"\\nTaylor expansion of exp(x):\\n{exp_x_tf}\")\n",
    "\n",
    "# Taylor expansion of gaussian(x) (exp(-x^2))\n",
    "gaussian_x_tf = mtf.gaussian(x)\n",
    "print(f\"\\nTaylor expansion of gaussian(x):\\n{gaussian_x_tf}\")\n",
    "\n",
    "# Taylor expansion of sqrt(1+x)\n",
    "sqrt_x_tf = mtf.sqrt(1+x)\n",
    "print(f\"\\nTaylor expansion of sqrt(1+x):\\n{sqrt_x_tf}\")\n",
    "\n",
    "# Taylor expansion of log(1+y)\n",
    "log_y_tf = mtf.log(1+y)\n",
    "print(f\"\\nTaylor expansion of log(1+y):\\n{log_y_tf}\")\n",
    "\n",
    "# Taylor expansion of arctan(x + 2y + 0.5z)\n",
    "arctan_x_tf = mtf.arctan(x+2*y+.5*z)\n",
    "print(f\"\\nTaylor expansion of arctan(x + 2y + 0.5z):\\n{arctan_x_tf}\")\n",
    "\n",
    "# Taylor expansion of 1/(1+x**2+y+.3*z)\n",
    "fxyz = 1/(1+x**2+y+.3*z)\n",
    "print(f\"\\nTaylor expansion of 1/(1+x**2+y+.3*z):\\n{fxyz}\")"
   ]
  },
  {
   "cell_type": "markdown",
   "metadata": {},
   "source": [
    "## 8. Important Considerations: Validity and Radius of Convergence\n",
    "\n",
    "While `mtflib` provides tools for generating Taylor series expansions, it's crucial for the user to understand and consider the **validity and radius of convergence** of these expansions. The library automatically computes the Taylor series up to the specified `max_order`, but it does not inherently track or enforce the conditions under which these series provide a good approximation of the original function.\n",
    "\n",
    "**User Responsibility:** It is the user's responsibility to ensure that the Taylor series expansion used is valid for the specific range of input values relevant to their application. Factors to consider include:\n",
    "\n",
    "* **Radius of Convergence:** Taylor series for many functions only converge to the original function within a certain radius around the point of expansion (which is typically zero in our current implementation of elementary functions around a single variable). Outside this radius, the Taylor series may diverge or provide a poor approximation.\n",
    "* **Point of Expansion:** The elementary functions in `mtflib` are currently implemented around an expansion point of zero for single variables. For multivariate functions, the expansion is around the origin of the variable space. The accuracy of the Taylor series is generally highest near the expansion point.\n",
    "* **Form of the Equation:** The way an equation is formulated can significantly impact the convergence and the complexity of its Taylor series. For example, expanding `1/(1-x)` around `x=0` yields a simple geometric series with a radius of convergence of `|x| < 1`. However, expanding this function around `x=2` would result in a different series with a different radius of convergence.\n",
    "\n",
    "**In summary, while `mtflib` simplifies the process of generating Taylor series, the user must exercise caution and apply their mathematical understanding to ensure the appropriateness and accuracy of the generated expansions for their intended use case.**"
   ]
  },
  {
   "cell_type": "markdown",
   "metadata": {},
   "source": [
    "### 8.1 Example Illustrating Radius of Convergence\n",
    "\n",
    "Let's consider the Taylor series expansion of the function $f(x) = \\frac{1}{1-x}$ around $x=0$. This function has a well-known Taylor series:\n",
    "\n",
    "$\\frac{1}{1-x} = 1 + x + x^2 + x^3 + ... = \\sum_{n=0}^{\\infty} x^n$\n",
    "\n",
    "This series converges to $\\frac{1}{1-x}$ only when $|x| < 1$. The radius of convergence is 1. Let's see this in practice using `mtflib` (up to the current `max_order`):\n"
   ]
  },
  {
   "cell_type": "code",
   "execution_count": 26,
   "metadata": {
    "execution": {
     "iopub.execute_input": "2025-08-20T13:25:06.863443Z",
     "iopub.status.busy": "2025-08-20T13:25:06.863082Z",
     "iopub.status.idle": "2025-08-20T13:25:06.877902Z",
     "shell.execute_reply": "2025-08-20T13:25:06.876831Z"
    }
   },
   "outputs": [
    {
     "name": "stdout",
     "output_type": "stream",
     "text": [
      "Taylor series approximation of 1/(1-x) around x=0:\n",
      "          Coefficient  Order  Exponents\n",
      "0 1.000000000000e+00      0  (0, 0, 0)\n",
      "1 1.000000000000e+00      1  (1, 0, 0)\n",
      "2 1.000000000000e+00      2  (2, 0, 0)\n",
      "3 1.000000000000e+00      3  (3, 0, 0)\n",
      "4 1.000000000000e+00      4  (4, 0, 0)\n",
      "5 1.000000000000e+00      5  (5, 0, 0)\n",
      "6 1.000000000000e+00      6  (6, 0, 0)\n",
      "7 1.000000000000e+00      7  (7, 0, 0)\n",
      "8 1.000000000000e+00      8  (8, 0, 0)\n",
      "\n",
      "\n",
      "Evaluation at x = 0.5: Approximation = [1.99609375], Exact = 2.0\n",
      "Evaluation at x = 1.5: Approximation = [74.88671875], Exact = -2.0\n"
     ]
    }
   ],
   "source": [
    "# Recall that 'x' was defined earlier as var(1)\n",
    "\n",
    "# Since we don't have a direct '1/(1-x)' elementary function, we can try to approximate it\n",
    "# by using (1-x)**(-1). This might behave differently due to the nature of the expansion.\n",
    "# A more direct way would be to manually create the coefficients for a few terms.\n",
    "\n",
    "def manual_geometric_series(order):\n",
    "    coeffs = {}\n",
    "    dim = mtf.get_max_dimension()\n",
    "    for i in range(order + 1):\n",
    "        exponent = [0] * dim\n",
    "        exponent[0] = i\n",
    "        coeffs[tuple(exponent)] = 1.0\n",
    "    return mtf(coeffs, dimension=dim)\n",
    "\n",
    "geometric_series_approx = manual_geometric_series(8) # Using max_order = 8\n",
    "print(\"Taylor series approximation of 1/(1-x) around x=0:\\n\", geometric_series_approx)\n",
    "\n",
    "# Let's evaluate at a point within the radius of convergence (e.g., x = 0.5)\n",
    "eval_point_within = np.array([0.5,0,0])\n",
    "result_within = geometric_series_approx.eval(eval_point_within)\n",
    "exact_within = 1 / (1 - 0.5)\n",
    "print(f\"\\nEvaluation at x = 0.5: Approximation = {result_within}, Exact = {exact_within}\")\n",
    "\n",
    "# Let's evaluate at a point outside the radius of convergence (e.g., x = 1.5)\n",
    "eval_point_outside = np.array([1.5,0,0])\n",
    "result_outside = geometric_series_approx.eval(eval_point_outside)\n",
    "exact_outside = 1 / (1 - 1.5)\n",
    "print(f\"Evaluation at x = 1.5: Approximation = {result_outside}, Exact = {exact_outside}\")\n",
    "\n",
    "# You will likely observe that the approximation is good within the radius of convergence\n",
    "# but may deviate significantly outside it, especially as you move further away."
   ]
  },
  {
   "cell_type": "markdown",
   "metadata": {},
   "source": [
    "## 9. Accuracy vs. Order of Computation\n",
    "\n",
    "This section visually demonstrates how the accuracy of the Taylor polynomial approximation improves as the order of the series expansion increases for a few common elementary functions. The following plots show the relationship between the order of the Taylor series (on the x-axis) and the logarithm of the accuracy (on the y-axis, represented as -log10 of the absolute error) for different elementary functions. Each subplot corresponds to a specific value of `x` (0.01, 0.1, 0.2, and 0.5). Different colored lines in each subplot represent different elementary functions, allowing for a comparison of their convergence rates as the order of the Taylor series increases. Generally, as the order increases, the absolute error decreases, leading to a larger value on the y-axis, indicating higher accuracy."
   ]
  },
  {
   "cell_type": "code",
   "execution_count": null,
   "metadata": {
    "execution": {
     "iopub.execute_input": "2025-08-20T13:25:06.881598Z",
     "iopub.status.busy": "2025-08-20T13:25:06.881258Z",
     "iopub.status.idle": "2025-08-20T13:25:10.161919Z",
     "shell.execute_reply": "2025-08-20T13:25:10.160167Z"
    }
   },
   "outputs": [
    {
     "ename": "IndentationError",
     "evalue": "unexpected indent (3479593922.py, line 16)",
     "output_type": "error",
     "traceback": [
      "  \u001b[36mCell\u001b[39m\u001b[36m \u001b[39m\u001b[32mIn[27]\u001b[39m\u001b[32m, line 16\u001b[39m\n\u001b[31m    \u001b[39m\u001b[31mx = var(1)\\n\u001b[39m\n    ^\n\u001b[31mIndentationError\u001b[39m\u001b[31m:\u001b[39m unexpected indent\n"
     ]
    }
   ],
   "source": [
    "import numpy as np\n",
    "import matplotlib.pyplot as plt\n",
    "from mtflib import var, mtf\n",
    "\n",
    "# Values of x to evaluate\n",
    "x_values = [0.01, 0.1, 0.2, 0.5]\n",
    "num_plots = len(x_values)\n",
    "num_rows = (num_plots + 1) // 2\n",
    "num_cols = 2\n",
    "\n",
    "# Maximum order of Taylor series to consider\n",
    "max_order = mtf.get_max_order()\n",
    "orders = range(1, max_order + 1)\n",
    "\n",
    "# Define the variable for Taylor expansion\n",
    "x = var(1)\n",
    "\n",
    "# Functions to evaluate\n",
    "functions = {\n",
    "    \"sin(x)\": (np.sin, mtf.sin, \"red\"),\n",
    "    \"cos(x)\": (np.cos, mtf.cos, \"blue\"),\n",
    "    \"exp(x)\": (np.exp, mtf.exp, \"green\"),\n",
    "    \"gaussian(x)\": (lambda x: np.exp(-x**2), mtf.gaussian, \"purple\"),\n",
    "    \"sqrt(1+x)\": (lambda x: np.sqrt(1 + x), lambda var: mtf.sqrt(1 + var), \"orange\"),\n",
    "    \"log(1+x)\": (lambda x: np.log(1 + x), lambda var: mtf.log(1 + var), \"brown\"),\n",
    "    \"arctan(x)\": (np.arctan, mtf.arctan, \"cyan\"),\n",
    "    \"sinh(x)\": (np.sinh, mtf.sinh, \"magenta\"),\n",
    "    \"cosh(x)\": (np.cosh, mtf.cosh, \"lime\"),\n",
    "    \"tanh(x)\": (np.tanh, mtf.tanh, \"teal\"),\n",
    "    \"arcsin(x)\": (np.arcsin, mtf.arcsin, \"olive\")\n",
    "}\n",
    "\n",
    "# Create subplots\n",
    "fig, axes = plt.subplots(num_rows, num_cols, figsize=(15, 5 * num_rows))\n",
    "axes = axes.flatten()\n",
    "\n",
    "# Generate plots for each x value\n",
    "for i, x_val in enumerate(x_values):\n",
    "    accuracy_data = {}\n",
    "    for name, (exact_func, taylor_func, color) in functions.items():\n",
    "        errors = []\n",
    "        for order in orders:\n",
    "            mtf.set_max_order(order)\n",
    "            taylor_series = taylor_func(x)\n",
    "            approximation = taylor_series.eval(np.array([x_val, 0, 0]))\n",
    "            try:\n",
    "                exact_value = exact_func(x_val)\n",
    "                absolute_error = np.abs(approximation - exact_value)\n",
    "                errors.append(-np.log10(absolute_error + 1e-18))\n",
    "            except ValueError as e:\n",
    "                # Handle cases where the exact function is not defined for x_val\n",
    "                errors.append(np.nan)\n",
    "                print(f\"Warning: {e} for {name} at x = {x_val}\")\n",
    "\n",
    "        accuracy_data[name] = errors\n",
    "\n",
    "    # Plotting the results for the current x_val in the corresponding subplot\n",
    "    ax = axes[i]\n",
    "    for name, errors in accuracy_data.items():\n",
    "        color = functions[name][2]\n",
    "        ax.plot(orders, errors, marker='o', linestyle='-', color=color, label=name)\n",
    "\n",
    "    ax.set_xlabel(\"Order of Taylor Series\")\n",
    "    ax.set_ylabel(\"Logarithm of Accuracy (-log10(Absolute Error))\")\n",
    "    ax.set_title(f\"Accuracy vs. Order at x = {x_val}\")\n",
    "    ax.grid(True)\n",
    "    ax.legend()\n",
    "\n",
    "# Remove any unused subplots if the number of x_values is odd\n",
    "if num_plots < num_rows * num_cols:\n",
    "    for i in range(num_plots, num_rows * num_cols):\n",
    "        fig.delaxes(axes[i])\n",
    "\n",
    "plt.tight_layout()\n",
    "plt.show()\n",
    "    mtf.set_max_order(max_order)"
   ]
  },
  {
   "cell_type": "markdown",
   "metadata": {},
   "source": [
    "## 10. Symbolic Representation with SymPy\n",
    "\n",
    "The `symprint` method provides a way to convert a `MultivariateTaylorFunction` or `ComplexMultivariateTaylorFunction` into a SymPy expression for pretty printing in environments like Jupyter notebooks."
   ]
  },
  {
   "cell_type": "code",
   "execution_count": null,
   "metadata": {},
   "outputs": [],
   "source": [
    "# This cell requires sympy to be installed.\n",
    "# You can install it using: pip install sympy\n",
    "try:\n",
    "    import sympy as sp\n",
    "    from IPython.display import display\n",
    "    sp.init_printing(use_unicode=True, order='grevlex')\n",
    "\n",
    "    # --- Example with MultivariateTaylorFunction ---\n",
    "    print(\"--- Example: mtf.sin(x+2*y) ---\")\n",
    "    x = var(1)\\n\n",
    "    y = var(2)\\n\n",
    "    mtf_sin = mtf.sin(x + 2*y)\n",
    "    sympy_sin_expr = mtf_sin.symprint()\n",
    "    print(\"The following is a SymPy object, which will render beautifully in a notebook.\")\n",
    "    display(sympy_sin_expr)\n",
    "\n",
    "    # --- Example with ComplexMultivariateTaylorFunction ---\n",
    "    print(\"--- Example: mtf.exp(i*x) ---\")\n",
    "    i = 1j\n",
    "    from mtflib import ComplexMultivariateTaylorFunction\n",
    "    x_complex = ComplexMultivariateTaylorFunction.from_variable(var_index=1, dimension=1)\n",
    "    mtf_complex_exp = mtf.exp(i * x_complex)\n",
    "    sympy_complex_expr = mtf_complex_exp.symprint(symbols=['x'])\n",
    "    print(\"The following is a SymPy object for a complex function.\")\n",
    "    display(sympy_complex_expr)\n",
    "\n",
    "    # --- Example with custom coefficient formatting ---\n",
    "    print(\"--- Example: Custom coefficient formatting ---\")\n",
    "    def custom_formatter(c, p):\n",
    "        # A simple rational formatter\n",
    "        if np.iscomplexobj(c):\n",
    "            return sp.Rational(c.real).limit_denominator(10**p) + sp.I * sp.Rational(c.imag).limit_denominator(10**p)\n",
    "        else:\n",
    "            return sp.Rational(c).limit_denominator(10**p)\n",
    "\n",
    "    # Re-initialize for the 2D mtf_sin\n",
    "    x = var(1)\\n\n",
    "    y = var(2)\\n\n",
    "    mtf_sin = mtf.sin(x+2*y)\n",
    "\n",
    "    sympy_custom_format_expr = mtf_sin.symprint(precision=3, coeff_formatter=custom_formatter)\n",
    "    print(\"The following is a SymPy object with custom rational formatting.\")\n",
    "    display(sympy_custom_format_expr)\n",
    "\n",
    "except ImportError:\n",
    "    print(\"SymPy is not installed. Please install it to run this demo cell.\")"
   ]
  }
 ],
 "metadata": {
  "kernelspec": {
   "display_name": "mtf",
   "language": "python",
   "name": "python3"
  },
  "language_info": {
   "codemirror_mode": {
    "name": "ipython",
    "version": 3
   },
   "file_extension": ".py",
   "mimetype": "text/x-python",
   "name": "python",
   "nbconvert_exporter": "python",
   "pygments_lexer": "ipython3",
   "version": "3.13.5"
  }
 },
 "nbformat": 4,
 "nbformat_minor": 4
}
