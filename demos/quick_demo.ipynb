{
 "cells": [
  {
   "cell_type": "code",
   "execution_count": 1,
   "id": "dec23cee",
   "metadata": {},
   "outputs": [
    {
     "name": "stdout",
     "output_type": "stream",
     "text": [
      "Initializing MTF globals with: _MAX_ORDER=5, _MAX_DIMENSION=2\n",
      "Loading/Precomputing Taylor coefficients up to order 5\n",
      "Global precomputed coefficients loading/generation complete.\n",
      "Size of precomputed_coefficients dictionary in memory: 464 bytes, 0.45 KB, 0.00 MB\n",
      "MTF globals initialized: _MAX_ORDER=5, _MAX_DIMENSION=2, _INITIALIZED=True\n",
      "Max coefficient count (order=5, nvars=2): 21\n",
      "Precomputed coefficients loaded and ready for use.\n",
      "\n",
      "f(x, y) = sin(x) + y^2\n",
      "Result of f(0.5, 2.0): 4.479427083333333\n",
      "Exact value: 4.479425538604203\n",
      "\n",
      "Taylor Series Representation:\n",
      "          Coefficient  Order Exponents\n",
      "0  1.000000000000e+00      1    (1, 0)\n",
      "1  1.000000000000e+00      2    (0, 2)\n",
      "2 -1.666666666667e-01      3    (3, 0)\n",
      "3  8.333333333333e-03      5    (5, 0)\n",
      "\n",
      "Symbolic representation of the function:\n"
     ]
    },
    {
     "data": {
      "text/latex": [
       "$\\displaystyle 0.00833333 x^{5} - 0.166667 x^{3} + 1.0 x + 1.0 y^{2}$"
      ],
      "text/plain": [
       "0.00833333*x**5 - 0.166667*x**3 + 1.0*x + 1.0*y**2"
      ]
     },
     "metadata": {},
     "output_type": "display_data"
    }
   ],
   "source": [
    "import numpy as np\n",
    "from IPython.display import display\n",
    "\n",
    "from mtflib import mtf\n",
    "\n",
    "# 1. Initialize global settings (must be done once)\n",
    "# This sets the max order of the Taylor series and the number of variables.\n",
    "mtf.initialize_mtf(max_order=5, max_dimension=2)\n",
    "\n",
    "# 2. Define symbolic variables\n",
    "# var(1) corresponds to x, var(2) to y\n",
    "x = mtf.var(1)\n",
    "y = mtf.var(2)\n",
    "\n",
    "# 3. Create a Taylor series expression\n",
    "# This creates a Taylor series for sin(x) + y^2\n",
    "f = mtf.sin(x) + y**2\n",
    "\n",
    "# 4. Evaluate the result at a point\n",
    "# Let's evaluate f at (x=0.5, y=2.0)\n",
    "eval_point = np.array([0.5, 2.0])\n",
    "result = f.eval(eval_point)\n",
    "\n",
    "print(\"\\nf(x, y) = sin(x) + y^2\")\n",
    "print(f\"Result of f(0.5, 2.0): {result[0]}\")\n",
    "\n",
    "# For comparison, the exact value is sin(0.5) + 2.0^2\n",
    "exact_value = np.sin(0.5) + 4.0\n",
    "print(f\"Exact value: {exact_value}\")\n",
    "\n",
    "# You can also view the Taylor series coefficients\n",
    "print(\"\\nTaylor Series Representation:\")\n",
    "print(f)\n",
    "\n",
    "print(\"Symbolic representation of the function:\")\n",
    "display(f.symprint())  # This will print the series in a human-readable format"
   ]
  },
  {
   "cell_type": "code",
   "execution_count": null,
   "id": "17c07d54",
   "metadata": {},
   "outputs": [],
   "source": []
  }
 ],
 "metadata": {
  "kernelspec": {
   "display_name": "mtf",
   "language": "python",
   "name": "python3"
  },
  "language_info": {
   "codemirror_mode": {
    "name": "ipython",
    "version": 3
   },
   "file_extension": ".py",
   "mimetype": "text/x-python",
   "name": "python",
   "nbconvert_exporter": "python",
   "pygments_lexer": "ipython3",
   "version": "3.13.5"
  }
 },
 "nbformat": 4,
 "nbformat_minor": 5
}
