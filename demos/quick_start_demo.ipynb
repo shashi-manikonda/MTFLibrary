{
 "cells": [
  {
   "cell_type": "code",
   "execution_count": null,
   "metadata": {},
   "outputs": [],
   "source": [
    "from mtflib import mtf\\n",
    "\\n",
    "# 1. Initialize the library's global settings. This is a crucial first step.\\n",
    "# We'll set a maximum order of 4 and 2 variables (dimensions).\\n",
    "mtf.initialize_mtf(max_order=4, max_dimension=2)\\n",
    "\\n",
    "# 2. Create variables x and y.\\n",
    "# var(1) corresponds to the first variable, var(2) to the second.\\n",
    "x = mtf.var(1)\\n",
    "y = mtf.var(2)\\n",
    "\\n",
    "# 3. Define a function, for example, f(x, y) = sin(x + y**2)\\n",
    "f = mtf.sin(x + y**2)\\n",
    "\\n",
    "# 4. Print the function's Taylor series coefficients in a readable format.\\n",
    "print(\"Taylor series for f(x, y) = sin(x + y^2):\")\\n",
    "print(f.get_tabular_dataframe())\\n",
    "\\n",
    "# 5. Evaluate the function at the point (x=2, y=3).\\n",
    "evaluation_point = [2, 3]\\n",
    "result = f.eval(evaluation_point)\\n",
    "print(f\"\\nResult of f(2, 3): {result[0]}\")"
   ]
  }
 ],
 "metadata": {
  "kernelspec": {
   "display_name": "Python 3",
   "language": "python",
   "name": "python3"
  },
  "language_info": {
   "codemirror_mode": {
    "name": "ipython",
    "version": 3
   },
   "file_extension": ".py",
   "mimetype": "text/x-python",
   "name": "python",
   "nbconvert_exporter": "python",
   "pygments_lexer": "ipython3",
   "version": "3.12.11"
  }
 },
 "nbformat": 4,
 "nbformat_minor": 4
}
