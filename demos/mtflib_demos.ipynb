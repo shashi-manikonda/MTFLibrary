{
 "cells": [
  {
   "cell_type": "markdown",
   "metadata": {},
   "source": [
    "# Demonstrating Two Methods for Creating a MultivariateTaylorFunction (MTF)\n",
    "\n",
    "This notebook shows two ways to create an MTF instance:\n",
    "1. Using elementary functions and arithmetic operations.\n",
    "2. Directly from NumPy arrays of coefficients and exponents."
   ]
  },
  {
   "cell_type": "markdown",
   "metadata": {},
   "source": [
    "## Method 1: Creating an MTF with Elementary Functions"
   ]
  },
  {
   "cell_type": "code",
   "execution_count": null,
   "metadata": {},
   "outputs": [],
   "source": [
    "import numpy as np\n",
    "from mtflib import mtf\n",
    "\n",
    "# Initialize library settings\n",
    "mtf.initialize_mtf(max_order=3, max_dimension=2)\n",
    "\n",
    "# Create mtf variables\n",
    "x = mtf.var(1)\n",
    "y = mtf.var(2)\n",
    "\n",
    "# Define a function using elementary functions and arithmetic\n",
    "f = mtf.sin(x + y**2)\n",
    "\n",
    "# Print the MTF using get_tabular_dataframe()\n",
    "print(\"--- MTF created from elementary functions ---\")\n",
    "display(f.get_tabular_dataframe())"
   ]
  },
  {
   "cell_type": "markdown",
   "metadata": {},
   "source": [
    "## Method 2: Creating an MTF from Coefficients"
   ]
  },
  {
   "cell_type": "code",
   "execution_count": null,
   "metadata": {},
   "outputs": [],
   "source": [
    "import numpy as np\n",
    "from mtflib import mtf\n",
    "\n",
    "# Initialize library settings (if not already done)\n",
    "if not mtf.get_mtf_initialized_status():\n",
    "    mtf.initialize_mtf(max_order=3, max_dimension=2)\n",
    "\n",
    "# Define NumPy arrays for coefficients and exponents\n",
    "# Let's create the Taylor series for f(x,y) = 1 + 2x + 3y^2\n",
    "exponents = np.array([\n",
    "    [0, 0],  # Constant term\n",
    "    [1, 0],  # x term\n",
    "    [0, 2]   # y^2 term\n",
    "])\n",
    "coeffs = np.array([1.0, 2.0, 3.0])\n",
    "\n",
    "# Create an MTF instance directly from these arrays\n",
    "g = mtf.MultivariateTaylorFunction((exponents, coeffs))\n",
    "\n",
    "# Print the MTF using get_tabular_dataframe()\n",
    "print(\"--- MTF created from coefficients ---\")\n",
    "display(g.get_tabular_dataframe())"
   ]
  }
 ],
 "metadata": {
  "kernelspec": {
   "display_name": "Python 3",
   "language": "python",
   "name": "python3"
  },
  "language_info": {
   "codemirror_mode": {
    "name": "ipython",
    "version": 3
   },
   "file_extension": ".py",
   "mimetype": "text/x-python",
   "name": "python",
   "nbconvert_exporter": "python",
   "pygments_lexer": "ipython3",
   "version": "3.9.7"
  }
 },
 "nbformat": 4,
 "nbformat_minor": 4
}
