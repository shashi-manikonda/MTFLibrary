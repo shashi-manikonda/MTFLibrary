{
 "cells": [
  {
   "cell_type": "markdown",
   "metadata": {},
   "source": [
    "# `mtflib` Tutorial: Advanced Functionality\n",
    "\n",
    "This notebook explores advanced topics in `mtflib`, including substitution, composition, accessing coefficients, and the use of other elementary functions."
   ]
  },
  {
   "cell_type": "markdown",
   "metadata": {},
   "source": [
    "## 1. Initialization\n",
    "\n",
    "As always, we begin by initializing the global settings for `mtflib`."
   ]
  },
  {
   "cell_type": "code",
   "execution_count": null,
   "metadata": {},
   "outputs": [],
   "source": [
    "import numpy as np\n",
    "import sympy as sp\n",
    "from IPython.display import display\n",
    "from mtflib import mtf\n",
    "\n",
    "if not mtf.get_mtf_initialized_status():\n",
    "    mtf.initialize_mtf(max_order=8, max_dimension=3)\n",
    "else:\n",
    "    print(\"MTF globals are already initialized.\")\n",
    "\n",
    "# Define some variables for our examples\n",
    "x = mtf.var(1)\n",
    "y = mtf.var(2)\n",
    "z = mtf.var(3)"
   ]
  },
  {
   "cell_type": "markdown",
   "metadata": {},
   "source": [
    "## 2. Substitution and Composition\n",
    "\n",
    "A powerful feature of `mtflib` is the ability to substitute variables with constants or even other Taylor functions."
   ]
  },
  {
   "cell_type": "markdown",
   "metadata": {},
   "source": [
    "### Substitution with a Constant\n",
    "\n",
    "Replace a variable in a Taylor function with a constant value."
   ]
  },
  {
   "cell_type": "code",
   "execution_count": null,
   "metadata": {},
   "outputs": [],
   "source": [
    "f_xyz = x + y + z**4\n",
    "print(f\"Original function f(x, y, z):\\n{f_xyz}\\n\")\n",
    "\n",
    "# Substitute x with 0.1\n",
    "g_yz = f_xyz.substitute_variable(1, 0.1)\n",
    "print(f\"After substituting x=0.1, we get g(y, z):\\n{g_yz}\")"
   ]
  },
  {
   "cell_type": "markdown",
   "metadata": {},
   "source": [
    "### Composition with other Taylor Functions\n",
    "\n",
    "Substitute variables with other Taylor functions to compose them."
   ]
  },
  {
   "cell_type": "code",
   "execution_count": null,
   "metadata": {},
   "outputs": [],
   "source": [
    "# Outer function: f(x, y) = x^2 + y^3\n",
    "f_xy = x**2 + y**3\n",
    "\n",
    "# Substituting functions:\n",
    "# g(y) = 1 + y\n",
    "# h(y, z) = 1 + y*z\n",
    "g_y = 1 + y\n",
    "h_yz = 1 + y * z\n",
    "\n",
    "# Perform composition: f(g(y), h(y,z))\n",
    "composed_f = f_xy.compose({1: g_y, 2: h_yz})\n",
    "print(f\"Composed function f(g(y), h(y,z)):\\n{composed_f}\")"
   ]
  },
  {
   "cell_type": "markdown",
   "metadata": {},
   "source": [
    "## 3. Accessing Coefficients\n",
    "\n",
    "You can directly access the coefficients and exponents of a Taylor function."
   ]
  },
  {
   "cell_type": "code",
   "execution_count": null,
   "metadata": {},
   "outputs": [],
   "source": [
    "sin_x = mtf.sin(x)\n",
    "coefficients = {tuple(exp): coeff for exp, coeff in zip(sin_x.exponents, sin_x.coeffs)}\n",
    "\n",
    "print(\"Coefficients of sin(x):\")\n",
    "for exp, coeff in coefficients.items():\n",
    "    print(f\"  Exponent {exp}: {coeff}\")"
   ]
  },
    {
   "cell_type": "markdown",
   "metadata": {},
   "source": [
    "## 4. Other Elementary Functions\n",
    "\n",
    "`mtflib` supports a variety of other elementary functions."
   ]
  },
  {
   "cell_type": "code",
   "execution_count": null,
   "metadata": {},
   "outputs": [],
   "source": [
        "print(\"--- Example: mtf.exp(x+2*y) ---\")\n",
    "x = mtf.var(1)\n",
    "y = mtf.var(2)\n",
    "mtf_sin = mtf.sin(x + 2 * y)\n",
    "sympy_sin_expr = mtf_sin.symprint()\n",
    "print(\n",
    "    \"The following is a SymPy object, which will render beautifully in a notebook.\"\n",
    ")\n",
    "display(sympy_sin_expr)\n",
    "\n",
    "# --- Example with ComplexMultivariateTaylorFunction ---\n",
    "print(\"--- Example: mtf.exp(i*x) ---\")\n",
    "i = 1j\n",
    "from mtflib import ComplexMultivariateTaylorFunction\n",
    "\n",
    "x_complex = ComplexMultivariateTaylorFunction.from_variable(\n",
    "    var_index=1, dimension=1\n",
    ")\n",
    "mtf_complex_exp = mtf.exp(i * x_complex)\n",
    "sympy_complex_expr = mtf_complex_exp.symprint(symbols=[\"x\"])\n",
    "print(\"The following is a SymPy object for a complex function.\")\n",
    "display(sympy_complex_expr)\n",
    "\n",
    "# --- Example with custom coefficient formatting ---\n",
    "print(\"--- Example: Custom coefficient formatting ---\")\n",
    "\n",
    "def custom_formatter(c, p):\n",
    "    # A simple rational formatter\n",
    "    if np.iscomplexobj(c):\n",
    "        return sp.Rational(c.real).limit_denominator(10**p) + sp.I * sp.Rational(\n",
    "            c.imag\n",
    "        ).limit_denominator(10**p)\n",
    "    else:\n",
    "        return sp.Rational(c).limit_denominator(10**p)\n",
    "\n",
    "# Re-initialize for the 2D mtf_sin\n",
    "x = mtf.var(1)\n",
    "y = mtf.var(2)\n",
    "mtf_sin = mtf.sin(x + 2 * y)\n",
    "\n",
    "sympy_custom_format_expr = mtf_sin.symprint(\n",
    "    precision=3, coeff_formatter=custom_formatter\n",
    ")\n",
    "print(\"The following is a SymPy object with custom rational formatting.\")\n",
    "display(sympy_custom_format_expr)"
   ]
  }
 ],
 "metadata": {
  "kernelspec": {
   "display_name": "Python 3",
   "language": "python",
   "name": "python3"
  },
  "language_info": {
   "codemirror_mode": {
    "name": "ipython",
    "version": 3
   },
   "file_extension": ".py",
   "mimetype": "text/x-python",
   "name": "python",
   "nbconvert_exporter": "python",
   "pygments_lexer": "ipython3",
   "version": "3.10.9"
  }
 },
 "nbformat": 4,
 "nbformat_minor": 4
}
