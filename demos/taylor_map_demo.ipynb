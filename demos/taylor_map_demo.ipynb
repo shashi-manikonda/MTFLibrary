{
 "cells": [
  {
   "cell_type": "markdown",
   "metadata": {},
   "source": [
    "# TaylorMap Demo"
   ]
  },
  {
   "cell_type": "markdown",
   "metadata": {},
   "source": [
    "## 1. Initialize `mtflib` global parameters\n",
    "\n",
    "This is a mandatory step before using any `mtflib` functionality. We set the maximum order of the Taylor series and the number of variables."
   ]
  },
  {
   "cell_type": "code",
   "execution_count": null,
   "metadata": {},
   "outputs": [],
   "source": [
    "import numpy as np\n",
    "import mtflib\n",
    "from mtflib import TaylorMap, MTF\n",
    "\n",
    "try:\n",
    "    mtflib.initialize_mtf_globals(max_order=4, max_dimension=2)\n",
    "except RuntimeError:\n",
    "    # Globals might already be initialized if running in an interactive session\n",
    "    pass"
   ]
  },
  {
   "cell_type": "markdown",
   "metadata": {},
   "source": [
    "## 2. Create two `TaylorMap` objects\n",
    "\n",
    "Let's define two maps from R^2 to R^2."
   ]
  },
  {
   "cell_type": "markdown",
   "metadata": {},
   "source": [
    "### Map 1: F(x,y) = [sin(x), cos(y)]"
   ]
  },
  {
   "cell_type": "code",
   "execution_count": null,
   "metadata": {},
   "outputs": [],
   "source": [
    "x = MTF.from_variable(1, 2)\n",
    "y = MTF.from_variable(2, 2)\n",
    "sin_x = mtflib.sin_taylor(x)\n",
    "cos_y = mtflib.cos_taylor(y)\n",
    "map_F = TaylorMap([sin_x, cos_y])\n",
    "print(map_F)"
   ]
  },
  {
   "cell_type": "markdown",
   "metadata": {},
   "source": [
    "### Map 2: G(x,y) = [x + y, x - y]"
   ]
  },
  {
   "cell_type": "code",
   "execution_count": null,
   "metadata": {},
   "outputs": [],
   "source": [
    "map_G = TaylorMap([x + y, x - y])\n",
    "print(map_G)"
   ]
  },
  {
   "cell_type": "markdown",
   "metadata": {},
   "source": [
    "## 3. Demonstrate Operations"
   ]
  },
  {
   "cell_type": "markdown",
   "metadata": {},
   "source": [
    "### Operation 1: Addition (F + G)"
   ]
  },
  {
   "cell_type": "code",
   "execution_count": null,
   "metadata": {},
   "outputs": [],
   "source": [
    "map_sum = map_F + map_G\n",
    "print(map_sum)"
   ]
  },
  {
   "cell_type": "markdown",
   "metadata": {},
   "source": [
    "### Operation 2: Composition F(G(x,y))\n",
    "\n",
    "This computes `sin(x+y)` and `cos(x-y)`."
   ]
  },
  {
   "cell_type": "code",
   "execution_count": null,
   "metadata": {},
   "outputs": [],
   "source": [
    "map_composed = map_F.compose(map_G)\n",
    "print(map_composed)"
   ]
  },
  {
   "cell_type": "markdown",
   "metadata": {},
   "source": [
    "### Operation 3: Trace\n",
    "\n",
    "The trace is the sum of the diagonal elements of the Jacobian matrix's linear part. For `F(x,y) = [sin(x), cos(y)]`, the Jacobian is `[[cos(x), 0], [0, -sin(y)]]`. At (0,0), the linear part is `[[1, 0], [0, 0]]`, so the trace is 1."
   ]
  },
  {
   "cell_type": "code",
   "execution_count": null,
   "metadata": {},
   "outputs": [],
   "source": [
    "trace_F = map_F.trace()\n",
    "print(f\"Trace of F at (0,0): {trace_F}\")"
   ]
  },
  {
   "cell_type": "markdown",
   "metadata": {},
   "source": [
    "### Operation 4: Substitution\n",
    "\n",
    "Let's evaluate the composed map `F(G(x,y))` at `x=0.5, y=0.2`. This is equivalent to evaluating `[sin(x+y), cos(x-y)]` at the point, which is `sin(0.7)` and `cos(0.3)`."
   ]
  },
  {
   "cell_type": "code",
   "execution_count": null,
   "metadata": {},
   "outputs": [],
   "source": [
    "eval_point = {1: 0.5, 2: 0.2}\n",
    "result_array = map_composed.substitute(eval_point)\n",
    "print(f\"F(G(0.5, 0.2)) from TaylorMap: {result_array}\")\n",
    "\n",
    "# Compare with numpy to verify\n",
    "numpy_result = [np.sin(0.7), np.cos(0.3)]\n",
    "print(f\"NumPy equivalent for comparison: {numpy_result}\")"
   ]
  }
 ],
 "metadata": {
  "kernelspec": {
   "display_name": "Python 3",
   "language": "python",
   "name": "python3"
  },
  "language_info": {
   "name": "python",
   "version": "3.12.3"
  }
 },
 "nbformat": 4,
 "nbformat_minor": 4
}
