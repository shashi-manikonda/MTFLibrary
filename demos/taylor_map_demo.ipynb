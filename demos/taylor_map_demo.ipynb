{
 "cells": [
  {
   "cell_type": "markdown",
   "metadata": {},
   "source": [
    "# TaylorMap Demo"
   ]
  },
  {
   "cell_type": "markdown",
   "metadata": {},
   "source": [
    "## 1. Initialize `mtflib` global parameters\n",
    "\n",
    "This is a mandatory step before using any `mtflib` functionality. We set the maximum order of the Taylor series and the number of variables."
   ]
  },
  {
   "cell_type": "code",
   "execution_count": 1,
   "metadata": {},
   "outputs": [
    {
     "name": "stdout",
     "output_type": "stream",
     "text": [
      "Initializing MTF globals with: _GLOBAL_MAX_ORDER=4, _GLOBAL_MAX_DIMENSION=2\n",
      "Loading/Precomputing Taylor coefficients up to order 4\n",
      "Global precomputed coefficients loading/generation complete.\n",
      "Size of precomputed_coefficients dictionary in memory: 464 bytes, 0.45 KB, 0.00 MB\n",
      "MTF globals initialized: _GLOBAL_MAX_ORDER=4, _GLOBAL_MAX_DIMENSION=2, _INITIALIZED=True\n",
      "Max coefficient count (order=4, nvars=2): 15\n",
      "Precomputed coefficients loaded and ready for use.\n"
     ]
    }
   ],
   "source": "import numpy as np\nimport mtflib\nfrom mtflib import TaylorMap, MTF\n\ntry:\n    mtflib.initialize_mtf_globals(max_order=4, max_dimension=2)\nexcept RuntimeError:\n    pass"
  },
  {
   "cell_type": "markdown",
   "metadata": {},
   "source": [
    "## 2. Create two `TaylorMap` objects\n",
    "\n",
    "Let's define two maps from R^2 to R^2."
   ]
  },
  {
   "cell_type": "markdown",
   "metadata": {},
   "source": [
    "### Map 1: F(x,y) = [sin(x), cos(y)]"
   ]
  },
  {
   "cell_type": "code",
   "execution_count": 2,
   "metadata": {},
   "outputs": [
    {
     "name": "stdout",
     "output_type": "stream",
     "text": [
      "TaylorMap with 2 components (input dim: 2):\n",
      "--- Component 1 ---\n",
      "          Coefficient  Order Exponents\n",
      "0  1.000000000000e+00      1    (1, 0)\n",
      "1 -1.666666666667e-01      3    (3, 0)\n",
      "\n",
      "--- Component 2 ---\n",
      "          Coefficient  Order Exponents\n",
      "0  1.000000000000e+00      0    (0, 0)\n",
      "1 -5.000000000000e-01      2    (0, 2)\n",
      "2  4.166666666667e-02      4    (0, 4)\n",
      "\n",
      "\n"
     ]
    }
   ],
   "source": "x = MTF.from_variable(1, 2)\ny = MTF.from_variable(2, 2)\nsin_x = mtflib.sin_taylor(x)\ncos_y = mtflib.cos_taylor(y)\nmap_F = TaylorMap([sin_x, cos_y])\nprint(map_F)"
  },
  {
   "cell_type": "markdown",
   "metadata": {},
   "source": [
    "### Map 2: G(x,y) = [x + y, x - y]"
   ]
  },
  {
   "cell_type": "code",
   "execution_count": 3,
   "metadata": {},
   "outputs": [
    {
     "name": "stdout",
     "output_type": "stream",
     "text": [
      "TaylorMap with 2 components (input dim: 2):\n",
      "--- Component 1 ---\n",
      "         Coefficient  Order Exponents\n",
      "0 1.000000000000e+00      1    (1, 0)\n",
      "1 1.000000000000e+00      1    (0, 1)\n",
      "\n",
      "--- Component 2 ---\n",
      "          Coefficient  Order Exponents\n",
      "0  1.000000000000e+00      1    (1, 0)\n",
      "1 -1.000000000000e+00      1    (0, 1)\n",
      "\n",
      "\n"
     ]
    }
   ],
   "source": "map_G = TaylorMap([x + y, x - y])\nprint(map_G)"
  },
  {
   "cell_type": "markdown",
   "metadata": {},
   "source": [
    "## 3. Demonstrate Operations"
   ]
  },
  {
   "cell_type": "markdown",
   "metadata": {},
   "source": [
    "### Operation 1: Addition (F + G)"
   ]
  },
  {
   "cell_type": "code",
   "execution_count": 4,
   "metadata": {},
   "outputs": [
    {
     "name": "stdout",
     "output_type": "stream",
     "text": [
      "TaylorMap with 2 components (input dim: 2):\n",
      "--- Component 1 ---\n",
      "          Coefficient  Order Exponents\n",
      "0  2.000000000000e+00      1    (1, 0)\n",
      "1  1.000000000000e+00      1    (0, 1)\n",
      "2 -1.666666666667e-01      3    (3, 0)\n",
      "\n",
      "--- Component 2 ---\n",
      "          Coefficient  Order Exponents\n",
      "0  1.000000000000e+00      0    (0, 0)\n",
      "1  1.000000000000e+00      1    (1, 0)\n",
      "2 -1.000000000000e+00      1    (0, 1)\n",
      "3 -5.000000000000e-01      2    (0, 2)\n",
      "4  4.166666666667e-02      4    (0, 4)\n",
      "\n",
      "\n"
     ]
    }
   ],
   "source": "map_sum = map_F + map_G\nprint(map_sum)"
  },
  {
   "cell_type": "markdown",
   "metadata": {},
   "source": [
    "### Operation 2: Composition F(G(x,y))\n",
    "\n",
    "This computes `sin(x+y)` and `cos(x-y)`."
   ]
  },
  {
   "cell_type": "code",
   "execution_count": 5,
   "metadata": {},
   "outputs": [
    {
     "name": "stdout",
     "output_type": "stream",
     "text": [
      "TaylorMap with 2 components (input dim: 2):\n",
      "--- Component 1 ---\n",
      "          Coefficient  Order Exponents\n",
      "0  0.000000000000e+00      0    (0, 0)\n",
      "1  1.000000000000e+00      1    (1, 0)\n",
      "2  1.000000000000e+00      1    (0, 1)\n",
      "3 -1.666666666667e-01      3    (3, 0)\n",
      "4 -5.000000000000e-01      3    (2, 1)\n",
      "5 -5.000000000000e-01      3    (1, 2)\n",
      "6 -1.666666666667e-01      3    (0, 3)\n",
      "\n",
      "--- Component 2 ---\n",
      "          Coefficient  Order Exponents\n",
      "0  1.000000000000e+00      0    (0, 0)\n",
      "1 -5.000000000000e-01      2    (2, 0)\n",
      "2  1.000000000000e+00      2    (1, 1)\n",
      "3 -5.000000000000e-01      2    (0, 2)\n",
      "4  4.166666666667e-02      4    (4, 0)\n",
      "5 -1.666666666667e-01      4    (3, 1)\n",
      "6  2.500000000000e-01      4    (2, 2)\n",
      "7 -1.666666666667e-01      4    (1, 3)\n",
      "8  4.166666666667e-02      4    (0, 4)\n",
      "\n",
      "\n"
     ]
    }
   ],
   "source": "map_composed = map_F.compose(map_G)\nprint(map_composed)"
  },
  {
   "cell_type": "markdown",
   "metadata": {},
   "source": [
    "### Operation 3: Trace\n",
    "\n",
    "The trace is the sum of the diagonal elements of the Jacobian matrix's linear part. For `F(x,y) = [sin(x), cos(y)]`, the Jacobian is `[[cos(x), 0], [0, -sin(y)]]`. At (0,0), the linear part is `[[1, 0], [0, 0]]`, so the trace is 1."
   ]
  },
  {
   "cell_type": "code",
   "execution_count": 6,
   "metadata": {},
   "outputs": [
    {
     "name": "stdout",
     "output_type": "stream",
     "text": [
      "Trace of F at (0,0): 1.0\n"
     ]
    }
   ],
   "source": "trace_F = map_F.trace()\nprint(f\"Trace of F at (0,0): {trace_F}\")"
  },
  {
   "cell_type": "markdown",
   "metadata": {},
   "source": [
    "### Operation 4: Substitution\n",
    "\n",
    "Let's evaluate the composed map `F(G(x,y))` at `x=0.5, y=0.2`. This is equivalent to evaluating `[sin(x+y), cos(x-y)]` at the point, which is `sin(0.7)` and `cos(0.3)`."
   ]
  },
  {
   "cell_type": "code",
   "execution_count": 7,
   "metadata": {},
   "outputs": [
    {
     "name": "stdout",
     "output_type": "stream",
     "text": [
      "F(G(0.5, 0.2)) from TaylorMap: [0.64283333 0.9553375 ]\n",
      "NumPy equivalent for comparison: [0.644217687237691, 0.955336489125606]\n"
     ]
    }
   ],
   "source": "eval_point = {1: 0.5, 2: 0.2}\nresult_array = map_composed.substitute(eval_point)\nprint(f\"F(G(0.5, 0.2)) from TaylorMap: {result_array}\")\n\n# Compare with numpy to verify\nnumpy_result = [np.sin(0.7), np.cos(0.3)]\nprint(f\"NumPy equivalent for comparison: {numpy_result}\")"
  }
 ],
 "metadata": {
  "kernelspec": {
   "display_name": "Python 3",
   "language": "python",
   "name": "python3"
  },
  "language_info": {
   "name": "python",
   "version": "3.12.3"
  }
 },
 "nbformat": 4,
 "nbformat_minor": 4
}
