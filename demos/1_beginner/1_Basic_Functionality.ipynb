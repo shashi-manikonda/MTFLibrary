{
 "cells": [
  {
   "cell_type": "markdown",
   "metadata": {},
   "source": [
    "# `mtflib` Tutorial: Basic Functionality\n",
    "\n",
    "This notebook covers the fundamental concepts of `mtflib`, including initialization, variable creation, and basic operations on Taylor functions like arithmetic, differentiation, and integration."
   ]
  },
  {
   "cell_type": "markdown",
   "metadata": {},
   "source": [
    "## 1. Initialization of Global Settings\n",
    "\n",
    "Before using `mtflib`, we must initialize its global settings. This step is crucial as it defines the maximum order and dimension for the Taylor series expansions. \n",
    "\n",
    "**Important**: These settings should be initialized only once per session. If you need to change them, a kernel restart is required."
   ]
  },
  {
   "cell_type": "code",
   "execution_count": null,
   "metadata": {},
   "outputs": [],
   "source": [
    "import numpy as np\n",
    "from mtflib import mtf\n",
    "\n",
    "if not mtf.get_mtf_initialized_status():\n",
    "    mtf.initialize_mtf(max_order=8, max_dimension=3)\n",
    "else:\n",
    "    print(\"MTF globals are already initialized.\")"
   ]
  },
  {
   "cell_type": "markdown",
   "metadata": {},
   "source": [
    "## 2. Defining Symbolic Variables\n",
    "\n",
    "We define symbolic variables using `mtf.var(var_id)`, where `var_id` is an integer from 1 to `max_dimension`."
   ]
  },
  {
   "cell_type": "code",
   "execution_count": null,
   "metadata": {},
   "outputs": [],
   "source": [
    "x = mtf.var(1)\n",
    "y = mtf.var(2)\n",
    "z = mtf.var(3)\n",
    "\n",
    "print(\"Variable x:\")\n",
    "print(x)"
   ]
  },
  {
   "cell_type": "markdown",
   "metadata": {},
   "source": [
    "## 3. Basic Operations with Taylor Functions"
   ]
  },
  {
   "cell_type": "markdown",
   "metadata": {},
   "source": [
    "### Arithmetic Operations\n",
    "\n",
    "Standard arithmetic operations like addition, subtraction, multiplication, and exponentiation are supported."
   ]
  },
  {
   "cell_type": "code",
   "execution_count": null,
   "metadata": {},
   "outputs": [],
   "source": [
    "sin_x = mtf.sin(x)\n",
    "cos_x = mtf.cos(x)\n",
    "\n",
    "# Addition\n",
    "sum_tf = sin_x + cos_x\n",
    "print(f\"sin(x) + cos(x) =\\n{sum_tf}\\n\")\n",
    "\n",
    "# Multiplication\n",
    "product_tf = x * sin_x\n",
    "print(f\"x * sin(x) =\\n{product_tf}\\n\")\n",
    "\n",
    "# Exponentiation\n",
    "squared_x = x**2\n",
    "print(f\"x^2 =\\n{squared_x}\\n\")"
   ]
  },
  {
   "cell_type": "markdown",
   "metadata": {},
   "source": [
    "### Differentiation\n",
    "\n",
    "You can compute the derivative of a Taylor function with respect to any variable."
   ]
  },
  {
   "cell_type": "code",
   "execution_count": null,
   "metadata": {},
   "outputs": [],
   "source": [
    "# First derivative of sin(x) with respect to x (variable 1)\n",
    "derivative_sin_x = sin_x.derivative(1)\n",
    "print(f\"Derivative of sin(x) w.r.t. x:\\n{derivative_sin_x}\")"
   ]
  },
  {
   "cell_type": "markdown",
   "metadata": {},
   "source": [
    "### Integration\n",
    "\n",
    "Both indefinite and definite integrals can be computed."
   ]
  },
  {
   "cell_type": "code",
   "execution_count": null,
   "metadata": {},
   "outputs": [],
   "source": [
    "# Indefinite integral of sin(x) w.r.t. x\n",
    "indef_integral_sin_x = sin_x.integrate(1)\n",
    "print(f\"Indefinite integral of sin(x) w.r.t. x:\\n{indef_integral_sin_x}\\n\")\n",
    "\n",
    "# Definite integral of sin(x) w.r.t. x from 0 to pi/2\n",
    "def_integral_sin_x = sin_x.integrate(1, lower_limit=0, upper_limit=np.pi / 2)\n",
    "print(f\"Definite integral of sin(x) from 0 to pi/2:\\n{def_integral_sin_x}\")"
   ]
  },
  {
   "cell_type": "markdown",
   "metadata": {},
   "source": [
    "## 4. Working with Multivariate Functions\n",
    "\n",
    "The same operations can be applied to functions of multiple variables."
   ]
  },
  {
   "cell_type": "code",
   "execution_count": null,
   "metadata": {},
   "outputs": [],
   "source": [
    "# A function of three variables\n",
    "exp_xyz = mtf.exp(x + y**2 + z**3)\n",
    "print(f\"f(x,y,z) = exp(x + y^2 + z^3):\\n{exp_xyz}\\n\")\n",
    "\n",
    "# Differentiate with respect to y (variable 2)\n",
    "derivative_exp_xyz_y = exp_xyz.derivative(2)\n",
    "print(f\"Derivative w.r.t. y:\\n{derivative_exp_xyz_y}\")"
   ]
  }
 ],
 "metadata": {
  "kernelspec": {
   "display_name": "Python 3",
   "language": "python",
   "name": "python3"
  },
  "language_info": {
   "codemirror_mode": {
    "name": "ipython",
    "version": 3
   },
   "file_extension": ".py",
   "mimetype": "text/x-python",
   "name": "python",
   "nbconvert_exporter": "python",
   "pygments_lexer": "ipython3",
   "version": "3.10.9"
  }
 },
 "nbformat": 4,
 "nbformat_minor": 4
}
