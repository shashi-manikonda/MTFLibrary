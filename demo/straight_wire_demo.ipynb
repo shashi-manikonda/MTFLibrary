{
 "cells": [
  {
   "cell_type": "markdown",
   "metadata": {},
   "source": [
    "# Straight Wire Magnetic Field Demo\n",
    "\n",
    "This demo showcases the `straight_wire_field` function. It compares the numerically computed magnetic field from a finite straight wire with the known analytical formula.\n",
    "\n",
    "We compute the Taylor series for the field around a point and compare its coefficients with those from the Taylor series of the analytical formula to verify the function's correctness."
   ]
  },
  {
   "cell_type": "code",
   "execution_count": null,
   "metadata": {},
   "outputs": [],
   "source": [
    "import numpy as np\n",
    "from MTFLibrary import *\n",
    "from MTFLibrary.EMLibrary.straight_wire import straight_wire_field\n",
    "from MTFLibrary.taylor_function import MultivariateTaylorFunctionBase\n",
    "import math\n",
    "import pandas as pd\n",
    "\n",
    "# --- Global MTF Settings ---\n",
    "initialize_mtf_globals(max_order=4, max_dimension=3)\n",
    "set_global_etol(1e-12)\n",
    "\n",
    "# --- Define Variables for MTF ---\n",
    "x = Var(1)\n",
    "y = Var(2)\n",
    "z = Var(3)"
   ]
  },
  {
   "cell_type": "markdown",
   "metadata": {},
   "source": [
    "### 1. Numerical B-Field Calculation"
   ]
  },
  {
   "cell_type": "code",
   "execution_count": null,
   "metadata": {},
   "outputs": [],
   "source": [
    "# --- Wire and Field Point Parameters ---\n",
    "start_point = [0, 0, -1]\n",
    "end_point = [0, 0, 1]\n",
    "current = 1.0\n",
    "num_segments = 200 # More segments for better accuracy\n",
    "\n",
    "# Define field point for Taylor expansion, e.g., around (0.1, 0, 0)\n",
    "field_point_mtf = np.array([[x + 0.1, y, z]], dtype=object)\n",
    "\n",
    "# --- Calculate the B-field numerically ---\n",
    "B_numerical = straight_wire_field(\n",
    "    start_point, end_point, current, field_point_mtf, num_segments=num_segments)\n",
    "\n",
    "B_numerical_vector = B_numerical[0] # Result has shape (1,3), so get the first row\n",
    "\n",
    "print(\"Computed B-field from Straight Wire (Taylor Series Coefficients of By):\")\n",
    "print(B_numerical_vector[1].get_tabular_dataframe())"
   ]
  },
  {
   "cell_type": "markdown",
   "metadata": {},
   "source": [
    "### 2. Analytical B-Field Calculation"
   ]
  },
  {
   "cell_type": "code",
   "execution_count": null,
   "metadata": {},
   "outputs": [],
   "source": [
    "# Analytical formula: B = (μ₀ * I / 4π * a) * (cos(θ₁) - cos(θ₂))\n",
    "# For a wire on the z-axis from z1 to z2, and a point (x,y,z), the field is in the phi direction.\n",
    "# B_phi = (μ₀ * I / 4π * a) * ( (z - z1)/sqrt((z-z1)²+a²) - (z - z2)/sqrt((z-z2)²+a²) )\n",
    "# where a = sqrt(x² + y²)\n",
    "\n",
    "mu_0 = 4 * math.pi * 1e-7\n",
    "z1 = -1.0\n",
    "z2 = 1.0\n",
    "\n",
    "# We are expanding around (0.1, 0, 0), so x_mtf = x + 0.1, y_mtf = y, z_mtf = z\n",
    "x_mtf = x + 0.1\n",
    "y_mtf = y\n",
    "z_mtf = z\n",
    "\n",
    "a_mtf = sqrt_taylor(x_mtf**2 + y_mtf**2)\n",
    "cos1_mtf = (z_mtf - z1) / sqrt_taylor((z_mtf - z1)**2 + a_mtf**2)\n",
    "cos2_mtf = (z_mtf - z2) / sqrt_taylor((z_mtf - z2)**2 + a_mtf**2)\n",
    "\n",
    "B_phi_mag = (mu_0 * current / (4 * math.pi * a_mtf)) * (cos1_mtf - cos2_mtf)\n",
    "\n",
    "# The field is in the phi direction. Bx = -B_phi * sin(phi), By = B_phi * cos(phi)\n",
    "# where phi is the angle in the xy-plane. phi = atan2(y, x)\n",
    "# cos(phi) = x / a, sin(phi) = y / a\n",
    "cos_phi_mtf = x_mtf / a_mtf\n",
    "sin_phi_mtf = y_mtf / a_mtf\n",
    "\n",
    "Bx_analytical = -B_phi_mag * sin_phi_mtf\n",
    "By_analytical =  B_phi_mag * cos_phi_mtf\n",
    "Bz_analytical = MultivariateTaylorFunctionBase.from_constant(0.0)\n",
    "\n",
    "print(\"Analytical B-field for Straight Wire (Taylor Series Coefficients of By):\")\n",
    "print(By_analytical.get_tabular_dataframe())"
   ]
  },
  {
   "cell_type": "markdown",
   "metadata": {},
   "source": [
    "### 3. Compare the Results"
   ]
  },
  {
   "cell_type": "code",
   "execution_count": null,
   "metadata": {},
   "outputs": [],
   "source": [
    "print(\"--- Comparison of Taylor Series Coefficients (By component) ---\")\n",
    "df_num = B_numerical_vector[1].get_tabular_dataframe().rename(columns={'Coefficient': 'Numerical'})\n",
    "df_an = By_analytical.get_tabular_dataframe().rename(columns={'Coefficient': 'Analytical'})\n",
    "comparison = pd.merge(df_num, df_an, on=['Order', 'Exponents'], how='outer').fillna(0)\n",
    "\n",
    "comparison['RelativeError'] = np.abs(comparison['Numerical'] - comparison['Analytical']) / np.abs(comparison['Analytical'])\n",
    "comparison['RelativeError'] = comparison['RelativeError'].replace([np.inf, -np.inf], 0).fillna(0)\n",
    "\n",
    "print(comparison[['Exponents', 'Order', 'Numerical', 'Analytical', 'RelativeError']])"
   ]
  }
 ],
 "metadata": {
  "kernelspec": {
   "display_name": "Python 3",
   "language": "python",
   "name": "python3"
  },
  "language_info": {
   "codemirror_mode": {
    "name": "ipython",
    "version": 3
   },
   "file_extension": ".py",
   "mimetype": "text/x-python",
   "name": "python",
   "nbconvert_exporter": "python",
   "pygments_lexer": "ipython3",
   "version": "3.12.11"
  }
 },
 "nbformat": 4,
 "nbformat_minor": 2
}
