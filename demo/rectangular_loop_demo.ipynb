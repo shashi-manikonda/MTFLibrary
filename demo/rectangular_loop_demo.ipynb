{
 "cells": [
  {
   "cell_type": "markdown",
   "metadata": {},
   "source": [
    "# Rectangular Loop Magnetic Field Demo (Arbitrarily Oriented)\n",
    "\n",
    "This demo showcases the refactored `rectangular_loop_field` function. It now defines a rectangle by three corner points, allowing for arbitrary orientation in 3D space. The demo visualizes the loop geometry and computes the magnetic field at an observation point."
   ]
  },
  {
   "cell_type": "code",
   "execution_count": null,
   "metadata": {},
   "outputs": [],
   "source": [
    "import numpy as np\n",
    "from MTFLibrary import *\n",
    "from MTFLibrary.EMLibrary.rectangular_loop import rectangular_loop_field\n",
    "from MTFLibrary.taylor_function import MultivariateTaylorFunctionBase\n",
    "import math\n",
    "import pandas as pd\n",
    "import matplotlib.pyplot as plt\n",
    "from mpl_toolkits.mplot3d import Axes3D"
   ]
  },
  {
   "cell_type": "markdown",
   "metadata": {},
   "source": [
    "### 1. Define Geometry and Visualize"
   ]
  },
  {
   "cell_type": "code",
   "execution_count": null,
   "metadata": {},
   "outputs": [],
   "source": [
    "# --- Loop and Field Point Parameters ---\n",
    "# Define an arbitrarily oriented rectangle using 3 corner points (p1, p2, p4)\n",
    "# where p1-p2 and p1-p4 are the sides.\n",
    "p1 = np.array([0, 0, 0])\n",
    "p2 = np.array([1, 0, 0]) # Side 1 along x-axis\n",
    "p4 = np.array([0, 1, 1]) # Side 2 in yz-plane, making the loop tilted\n",
    "current = 1.0\n",
    "observation_point = [0.5, 0.5, -1.0] # An off-axis observation point\n",
    "\n",
    "# Calculate the 4th corner\n",
    "p3 = p2 + (p4 - p1)\n",
    "corners = [p1, p2, p3, p4]\n",
    "loop_segments = np.array(corners + [corners[0]])\n",
    "\n",
    "# --- Visualize the Setup ---\n",
    "fig = plt.figure(figsize=(8, 8))\n",
    "ax = fig.add_subplot(111, projection='3d')\n",
    "ax.plot(loop_segments[:,0], loop_segments[:,1], loop_segments[:,2], 'b-o', label='Rectangular Loop')\n",
    "ax.scatter(observation_point[0], observation_point[1], observation_point[2], c='r', marker='x', s=100, label='Observation Point')\n",
    "ax.set_xlabel('X-axis')\n",
    "ax.set_ylabel('Y-axis')\n",
    "ax.set_zlabel('Z-axis')\n",
    "ax.set_title('Geometry of the Oriented Rectangular Loop')\n",
    "ax.legend()\n",
    "ax.axis('equal')\n",
    "plt.show()"
   ]
  },
  {
   "cell_type": "markdown",
   "metadata": {},
   "source": [
    "### 2. Numerical B-Field Calculation"
   ]
  },
  {
   "cell_type": "code",
   "execution_count": null,
   "metadata": {},
   "outputs": [],
   "source": [
    "# --- MTF Setup ---\n",
    "initialize_mtf_globals(max_order=2, max_dimension=3)\n",
    "x = Var(1); y = Var(2); z = Var(3)\n",
    "\n",
    "# --- Define Field Point for Taylor Expansion ---\n",
    "# We expand around the observation point\n",
    "field_point_mtf = np.array([[x + observation_point[0], y + observation_point[1], z + observation_point[2]]], dtype=object)\n",
    "\n",
    "# --- Calculate the B-field numerically ---\n",
    "B_numerical = rectangular_loop_field(\n",
    "    p1, p2, p4, current, field_point_mtf, num_segments_per_side=50)\n",
    "\n",
    "B_numerical_vector = B_numerical[0] # Result has shape (1,3), so get the first row\n",
    "\n",
    "print(\"Computed B-field at the observation point (constant term of the Taylor series):\")\n",
    "Bx = B_numerical_vector[0].extract_coefficient((0,0,0))\n",
    "By = B_numerical_vector[1].extract_coefficient((0,0,0))\n",
    "Bz = B_numerical_vector[2].extract_coefficient((0,0,0))\n",
    "print(f\"B = [{Bx[0]:.3e}, {By[0]:.3e}, {Bz[0]:.3e}] Tesla\")"
   ]
  },
  {
   "cell_type": "markdown",
   "metadata": {},
   "source": [
    "### 3. Conclusion\n",
    "\n",
    "This demo successfully calculates the magnetic field of an arbitrarily oriented rectangular loop by defining it with three corner points. The visualization confirms the geometry, and the function computes the field at the specified observation point. A direct analytical comparison is omitted due to its complexity for an arbitrarily oriented loop."
   ]
  }
 ],
 "metadata": {
  "kernelspec": {
   "display_name": "Python 3",
   "language": "python",
   "name": "python3"
  },
  "language_info": {
   "codemirror_mode": {
    "name": "ipython",
    "version": 3
   },
   "file_extension": ".py",
   "mimetype": "text/x-python",
   "name": "python",
   "nbconvert_exporter": "python",
   "pygments_lexer": "ipython3",
   "version": "3.12.11"
  }
 },
 "nbformat": 4,
 "nbformat_minor": 2
}
