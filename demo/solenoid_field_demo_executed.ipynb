{
 "cells": [
  {
   "cell_type": "markdown",
   "metadata": {},
   "source": [
    "# On-Axis Field of a Solenoid Demo\n",
    "\n",
    "This demo compares the numerically computed on-axis magnetic field of a model solenoid with the known analytical formula.\n",
    "\n",
    "A solenoid is modeled as a series of discrete current rings. The total magnetic field is the sum of the fields from each ring. We compute the Taylor series for this field along the solenoid's axis and compare its coefficients with the coefficients from the Taylor series of the analytical formula."
   ]
  },
  {
   "cell_type": "code",
   "execution_count": 1,
   "metadata": {
    "execution": {
     "iopub.execute_input": "2025-08-08T18:45:36.194011Z",
     "iopub.status.busy": "2025-08-08T18:45:36.193591Z",
     "iopub.status.idle": "2025-08-08T18:45:36.733663Z",
     "shell.execute_reply": "2025-08-08T18:45:36.732465Z"
    }
   },
   "outputs": [
    {
     "name": "stdout",
     "output_type": "stream",
     "text": [
      "Initializing MTF globals with: _GLOBAL_MAX_ORDER=6, _GLOBAL_MAX_DIMENSION=4\n",
      "Loading/Precomputing Taylor coefficients up to order 6\n",
      "Global precomputed coefficients loading/generation complete.\n",
      "Size of precomputed_coefficients dictionary in memory: 464 bytes, 0.45 KB, 0.00 MB\n",
      "MTF globals initialized: _GLOBAL_MAX_ORDER=6, _GLOBAL_MAX_DIMENSION=4, _INITIALIZED=True\n",
      "Max coefficient count (order=6, nvars=4): 210\n",
      "Precomputed coefficients loaded and ready for use.\n"
     ]
    }
   ],
   "source": [
    "import numpy as np\n",
    "from MTFLibrary import *\n",
    "from MTFLibrary.EMLibrary.biot_savart import serial_biot_savart\n",
    "from MTFLibrary.EMLibrary.current_ring import current_ring\n",
    "from MTFLibrary.taylor_function import MultivariateTaylorFunctionBase\n",
    "import math\n",
    "import pandas as pd\n",
    "\n",
    "# --- Global MTF Settings ---\n",
    "initialize_mtf_globals(max_order=6, max_dimension=4)\n",
    "set_global_etol(1e-12)\n",
    "\n",
    "# --- Define Variables for MTF ---\n",
    "z = Var(3) # We only need the variable for the axis"
   ]
  },
  {
   "cell_type": "markdown",
   "metadata": {},
   "source": [
    "### 1. Model the Solenoid and Compute Numerical B-Field"
   ]
  },
  {
   "cell_type": "code",
   "execution_count": 2,
   "metadata": {
    "execution": {
     "iopub.execute_input": "2025-08-08T18:45:36.798029Z",
     "iopub.status.busy": "2025-08-08T18:45:36.797411Z",
     "iopub.status.idle": "2025-08-08T18:47:12.768321Z",
     "shell.execute_reply": "2025-08-08T18:47:12.767079Z"
    }
   },
   "outputs": [
    {
     "name": "stdout",
     "output_type": "stream",
     "text": [
      "Computed Bz from Solenoid Model (Taylor Series Coefficients):\n",
      "          Coefficient  Order     Exponents\n",
      "0  1.146585093572e-04      0  (0, 0, 0, 0)\n",
      "1 -3.048515550090e-04      2  (0, 0, 2, 0)\n",
      "2 -5.186877015957e-03      4  (0, 0, 4, 0)\n",
      "3 -5.974433014965e-02      6  (0, 0, 6, 0)\n"
     ]
    }
   ],
   "source": [
    "# --- Solenoid Parameters ---\n",
    "solenoid_radius = 0.1\n",
    "solenoid_length = 0.5\n",
    "num_rings = 50 # Number of rings to approximate the solenoid\n",
    "current = 1.0\n",
    "turns_per_meter = num_rings / solenoid_length\n",
    "\n",
    "# --- Field Point on the axis ---\n",
    "field_point_mtf = np.array([[0, 0, z]], dtype=object)\n",
    "\n",
    "# --- Calculate B-field by summing contributions from each ring ---\n",
    "total_B_numerical = np.array([MultivariateTaylorFunctionBase.from_constant(0.0) for _ in range(3)], dtype=object)\n",
    "\n",
    "ring_positions_z = np.linspace(-solenoid_length / 2, solenoid_length / 2, num_rings)\n",
    "\n",
    "for z_pos in ring_positions_z:\n",
    "    ring_center = np.array([0, 0, z_pos])\n",
    "    ring_axis = np.array([0, 0, 1])\n",
    "    num_segments_per_ring = 20\n",
    "\n",
    "    segment_mtfs, element_lengths, direction_vectors = current_ring(\n",
    "        solenoid_radius, num_segments_per_ring, ring_center, ring_axis)\n",
    "    \n",
    "    # Biot-Savart law returns a field that is still a function of the ring parameter 'u' (Var(4))\n",
    "    B_ring_with_u = serial_biot_savart(segment_mtfs, element_lengths, direction_vectors, field_point_mtf)\n",
    "    \n",
    "    # Integrate over 'u' to get the total field from this one ring\n",
    "    B_ring = [integrate(bfld, 4, -1, 1) for bfld in B_ring_with_u[0]]\n",
    "    \n",
    "    # Add this ring's contribution to the total\n",
    "    total_B_numerical += B_ring\n",
    "\n",
    "B_z_numerical = total_B_numerical[2] # We only care about the Z-component\n",
    "\n",
    "print(\"Computed Bz from Solenoid Model (Taylor Series Coefficients):\")\n",
    "print(B_z_numerical.get_tabular_dataframe())"
   ]
  },
  {
   "cell_type": "markdown",
   "metadata": {},
   "source": [
    "### 2. Implement the Analytical Formula"
   ]
  },
  {
   "cell_type": "code",
   "execution_count": 3,
   "metadata": {
    "execution": {
     "iopub.execute_input": "2025-08-08T18:47:12.773949Z",
     "iopub.status.busy": "2025-08-08T18:47:12.773366Z",
     "iopub.status.idle": "2025-08-08T18:47:12.811962Z",
     "shell.execute_reply": "2025-08-08T18:47:12.810826Z"
    }
   },
   "outputs": [
    {
     "name": "stdout",
     "output_type": "stream",
     "text": [
      "Analytical Bz for Solenoid (Taylor Series Coefficients):\n",
      "          Coefficient  Order     Exponents\n",
      "0  1.166758220446e-04      0  (0, 0, 0, 0)\n",
      "1 -3.329631069049e-04      2  (0, 0, 2, 0)\n",
      "2 -5.806728776779e-03      4  (0, 0, 4, 0)\n",
      "3 -6.766461594820e-02      6  (0, 0, 6, 0)\n"
     ]
    }
   ],
   "source": [
    "mu_0 = 4 * math.pi * 1e-7\n",
    "\n",
    "# Analytical formula for the on-axis field of a finite solenoid\n",
    "# B_z = (mu_0 * n * I / 2) * (cos(theta_at_end_1) - cos(theta_at_end_2))\n",
    "\n",
    "# Define the positions of the solenoid ends\n",
    "z1 = -solenoid_length / 2\n",
    "z2 = solenoid_length / 2\n",
    "\n",
    "# The arguments for the cosines are based on the displacement from the field point z\n",
    "# to the ends of the solenoid.\n",
    "cos_theta_1 = (z - z1) / sqrt_taylor((z - z1)**2 + solenoid_radius**2)\n",
    "cos_theta_2 = (z - z2) / sqrt_taylor((z - z2)**2 + solenoid_radius**2)\n",
    "\n",
    "B_z_analytical = (mu_0 * turns_per_meter * current / 2) * (cos_theta_1 - cos_theta_2)\n",
    "\n",
    "print(\"Analytical Bz for Solenoid (Taylor Series Coefficients):\")\n",
    "print(B_z_analytical.get_tabular_dataframe())"
   ]
  },
  {
   "cell_type": "markdown",
   "metadata": {},
   "source": [
    "### 3. Compare the Results"
   ]
  },
  {
   "cell_type": "code",
   "execution_count": 4,
   "metadata": {
    "execution": {
     "iopub.execute_input": "2025-08-08T18:47:12.815442Z",
     "iopub.status.busy": "2025-08-08T18:47:12.815087Z",
     "iopub.status.idle": "2025-08-08T18:47:12.835633Z",
     "shell.execute_reply": "2025-08-08T18:47:12.834515Z"
    }
   },
   "outputs": [
    {
     "name": "stdout",
     "output_type": "stream",
     "text": [
      "--- Comparison of Taylor Series Coefficients (Bz component) ---\n",
      "      Exponents  Order           Numerical          Analytical      RelativeError\n",
      "0  (0, 0, 0, 0)      0  1.146585093572e-04  1.166758220446e-04 1.728989478714e-02\n",
      "1  (0, 0, 2, 0)      2 -3.048515550090e-04 -3.329631069049e-04 8.442842859441e-02\n",
      "2  (0, 0, 4, 0)      4 -5.186877015957e-03 -5.806728776779e-03 1.067471522523e-01\n",
      "3  (0, 0, 6, 0)      6 -5.974433014965e-02 -6.766461594820e-02 1.170521060020e-01\n"
     ]
    }
   ],
   "source": [
    "print(\"--- Comparison of Taylor Series Coefficients (Bz component) ---\")\n",
    "df_num = B_z_numerical.get_tabular_dataframe().rename(columns={'Coefficient': 'Numerical'})\n",
    "df_an = B_z_analytical.get_tabular_dataframe().rename(columns={'Coefficient': 'Analytical'})\n",
    "comparison = pd.merge(df_num, df_an, on=['Order', 'Exponents'], how='outer').fillna(0)\n",
    "\n",
    "comparison['RelativeError'] = np.abs(comparison['Numerical'] - comparison['Analytical']) / np.abs(comparison['Analytical'])\n",
    "comparison['RelativeError'] = comparison['RelativeError'].replace([np.inf, -np.inf], 0).fillna(0)\n",
    "\n",
    "print(comparison[['Exponents', 'Order', 'Numerical', 'Analytical', 'RelativeError']])"
   ]
  }
 ],
 "metadata": {
  "kernelspec": {
   "display_name": "Python 3",
   "language": "python",
   "name": "python3"
  },
  "language_info": {
   "codemirror_mode": {
    "name": "ipython",
    "version": 3
   },
   "file_extension": ".py",
   "mimetype": "text/x-python",
   "name": "python",
   "nbconvert_exporter": "python",
   "pygments_lexer": "ipython3",
   "version": "3.12.11"
  }
 },
 "nbformat": 4,
 "nbformat_minor": 2
}
