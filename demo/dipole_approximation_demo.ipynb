{
 "cells": [
  {
   "cell_type": "markdown",
   "metadata": {},
   "source": [
    "# Magnetic Dipole Approximation Demo\n",
    "\n",
    "This demo verifies the magnetic dipole approximation. It compares the magnetic field from a small, circular current loop at a large distance with the analytical formula for a magnetic dipole.\n",
    "\n",
    "The key verification is to show that the error between the numerically computed field from the loop and the analytical dipole field decreases as the distance from the loop increases. We expect the error to fall off, and we will visualize this relationship with a plot."
   ]
  },
  {
   "cell_type": "code",
   "execution_count": null,
   "metadata": {},
   "outputs": [],
   "source": [
    "import numpy as np\n",
    "from MTFLibrary import *\n",
    "from MTFLibrary.EMLibrary.biot_savart import serial_biot_savart\n",
    "from MTFLibrary.EMLibrary.current_ring import current_ring\n",
    "from MTFLibrary.taylor_function import MultivariateTaylorFunctionBase\n",
    "import math\n",
    "import matplotlib.pyplot as plt\n",
    "\n",
    "# --- Global MTF Settings ---\n",
    "# max_dimension must be at least 4 because current_ring uses Var(4) internally\n",
    "# to parameterize the segments for integration.\n",
    "initialize_mtf_globals(max_order=3, max_dimension=4)\n",
    "set_global_etol(1e-12)\n",
    "\n",
    "# --- Define Variables for MTF ---\n",
    "x = Var(1)\n",
    "y = Var(2)\n",
    "z = Var(3)"
   ]
  },
  {
   "cell_type": "markdown",
   "metadata": {},
   "source": [
    "### Function to Calculate Approximation Error\n",
    "\n",
    "We define a function to compute the error between the numerical and analytical fields for a given distance."
   ]
  },
  {
   "cell_type": "code",
   "execution_count": null,
   "metadata": {},
   "outputs": [],
   "source": [
    "def calculate_error_at_distance(distance):\n",
    "    # --- 1. Define a small current loop ---\n",
    "    ring_radius = 0.01\n",
    "    num_segments_ring = 20\n",
    "    current = 1.0\n",
    "    ring_center_point = np.array([0.0, 0.0, 0.0])\n",
    "    ring_axis_direction = np.array([0, 0, 1])\n",
    "\n",
    "    segment_mtfs, element_lengths, direction_vectors = current_ring(\n",
    "        ring_radius, num_segments_ring, ring_center_point, ring_axis_direction)\n",
    "\n",
    "    # --- 2. Define a far-field point ---\n",
    "    field_point_mtf = np.array([[x, y + distance, z]], dtype=object)\n",
    "\n",
    "    # --- 3. Calculate the B-field from the loop (Numerical) ---\n",
    "    B_numerical_mtf_with_u = serial_biot_savart(segment_mtfs, element_lengths, direction_vectors, field_point_mtf)\n",
    "    B_numerical_mtf = [integrate(bfld, 4, -1, 1) for bfld in B_numerical_mtf_with_u[0]]\n",
    "\n",
    "    # --- 4. Calculate the B-field from the analytical dipole formula ---\n",
    "    mu_0_4pi = 1e-7\n",
    "    area = math.pi * ring_radius**2\n",
    "    m_vec = np.array([0, 0, current * area])\n",
    "    m_mtf = np.array([MultivariateTaylorFunctionBase.from_constant(c) for c in m_vec], dtype=object)\n",
    "    r_mtf = np.array([x, y + distance, z], dtype=object)\n",
    "    r_squared_mtf = r_mtf[0]**2 + r_mtf[1]**2 + r_mtf[2]**2\n",
    "    r_mag_mtf = sqrt_taylor(r_squared_mtf)\n",
    "    m_dot_r_mtf = m_mtf[0]*r_mtf[0] + m_mtf[1]*r_mtf[1] + m_mtf[2]*r_mtf[2]\n",
    "    term1_scalar_inv_r5 = 3 * m_dot_r_mtf / (r_mag_mtf**5)\n",
    "    term1 = [c * term1_scalar_inv_r5 for c in r_mtf]\n",
    "    term2_scalar_inv_r3 = 1 / (r_mag_mtf**3)\n",
    "    term2 = [c * term2_scalar_inv_r3 for c in m_mtf]\n",
    "    B_analytic_mtf = [mu_0_4pi * (t1 - t2) for t1, t2 in zip(term1, term2)]\n",
    "\n",
    "    # --- 5. Calculate the error ---\n",
    "    # We use the norm of the difference of the constant terms (the field at the expansion point)\n",
    "    B_num_const = np.array([c.extract_coefficient((0,0,0,0)) for c in B_numerical_mtf])\n",
    "    B_an_const = np.array([c.extract_coefficient((0,0,0,0)) for c in B_analytic_mtf])\n",
    "    error = np.linalg.norm(B_num_const - B_an_const)\n",
    "    return error"
   ]
  },
  {
   "cell_type": "markdown",
   "metadata": {},
   "source": [
    "### Run Simulation Over a Range of Distances"
   ]
  },
  {
   "cell_type": "code",
   "execution_count": null,
   "metadata": {},
   "outputs": [],
   "source": [
    "distances = np.logspace(0, 2, 20) # from 1m to 100m\n",
    "errors = []\n",
    "for d in distances:\n",
    "    error = calculate_error_at_distance(d)\n",
    "    print(f\"Distance: {d:.2f}, Error: {error:.2e}\")\n",
    "    errors.append(error)"
   ]
  },
  {
   "cell_type": "markdown",
   "metadata": {},
   "source": [
    "### Plot Error vs. Distance"
   ]
  },
  {
   "cell_type": "code",
   "execution_count": null,
   "metadata": {},
   "outputs": [],
   "source": [
    "plt.figure(figsize=(10, 6))\n",
    "plt.plot(distances, errors, 'o-')\n",
    "plt.xscale('log')\n",
    "plt.yscale('log')\n",
    "plt.xlabel('Distance from loop (m)')\n",
    "plt.ylabel('Approximation Error (Norm of B-field difference)')\n",
    "plt.title('Dipole Approximation Error vs. Distance')\n",
    "plt.grid(True, which=\"both\", ls=\"--\")\n",
    "plt.show()"
   ]
  }
 ],
 "metadata": {
  "kernelspec": {
   "display_name": "Python 3",
   "language": "python",
   "name": "python3"
  },
  "language_info": {
   "codemirror_mode": {
    "name": "ipython",
    "version": 3
   },
   "file_extension": ".py",
   "mimetype": "text/x-python",
   "name": "python",
   "nbconvert_exporter": "python",
   "pygments_lexer": "ipython3",
   "version": "3.12.11"
  }
 },
 "nbformat": 4,
 "nbformat_minor": 2
}
